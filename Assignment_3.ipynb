{
 "cells": [
  {
   "cell_type": "markdown",
   "id": "eb3a16c0",
   "metadata": {},
   "source": [
    "# Assignments Dated: 28 May, 2025"
   ]
  },
  {
   "cell_type": "markdown",
   "id": "9fe69e69",
   "metadata": {},
   "source": [
    "## 1. Create a simple class `Person` with name and age as attributes"
   ]
  },
  {
   "cell_type": "code",
   "execution_count": 1,
   "id": "7dd64f45",
   "metadata": {},
   "outputs": [
    {
     "name": "stdout",
     "output_type": "stream",
     "text": [
      "Charlize Theron 49\n"
     ]
    }
   ],
   "source": [
    "class Person:\n",
    "    name='Charlize Theron'\n",
    "    age=49\n",
    "    \n",
    "obj=Person()\n",
    "print(obj.name, obj.age)"
   ]
  },
  {
   "cell_type": "markdown",
   "id": "5611c0f9",
   "metadata": {},
   "source": [
    "## 2. Add a method to the `Person` class that prints a greeting. "
   ]
  },
  {
   "cell_type": "code",
   "execution_count": 4,
   "id": "b7689d0b",
   "metadata": {},
   "outputs": [
    {
     "name": "stdout",
     "output_type": "stream",
     "text": [
      "Hello Charlize\n"
     ]
    }
   ],
   "source": [
    "class Person:\n",
    "    name='Charlize'\n",
    "    age=49\n",
    "    \n",
    "    def greeting(self):\n",
    "        print(f'Hello {self.name}')\n",
    "        \n",
    "Person().greeting()"
   ]
  },
  {
   "cell_type": "markdown",
   "id": "2fa5c2c7",
   "metadata": {},
   "source": [
    "## 3. Create a class with a class variable and instance variable"
   ]
  },
  {
   "cell_type": "code",
   "execution_count": null,
   "id": "69684015",
   "metadata": {},
   "outputs": [],
   "source": [
    "class Car:\n",
    "    # Class variable\n",
    "    wheels = 4\n",
    "\n",
    "    def __init__(self, brand, color):\n",
    "        # Instance variables\n",
    "        self.brand = brand\n",
    "        self.color = color\n"
   ]
  },
  {
   "cell_type": "markdown",
   "id": "94546a92",
   "metadata": {},
   "source": [
    "## 4. Create a private attribute in a class and access it using a method"
   ]
  },
  {
   "cell_type": "code",
   "execution_count": 5,
   "id": "82e6f2e9",
   "metadata": {},
   "outputs": [
    {
     "data": {
      "text/plain": [
       "120000"
      ]
     },
     "execution_count": 5,
     "metadata": {},
     "output_type": "execute_result"
    }
   ],
   "source": [
    "class BankAccount:\n",
    "    def __init__(self, owner, balance):\n",
    "        self.owner = owner\n",
    "        self.__balance = balance  # private attribute\n",
    "\n",
    "    # Method to access the private attribute\n",
    "    def get_balance(self):\n",
    "        return self.__balance\n",
    "\n",
    "BankAccount('Chris Hemsworth',120000).get_balance()"
   ]
  },
  {
   "cell_type": "markdown",
   "id": "e16ca5ac",
   "metadata": {},
   "source": [
    "## 5. Create a class with a method that returns the square of a number"
   ]
  },
  {
   "cell_type": "code",
   "execution_count": 6,
   "id": "59e4f7b7",
   "metadata": {},
   "outputs": [
    {
     "data": {
      "text/plain": [
       "16"
      ]
     },
     "execution_count": 6,
     "metadata": {},
     "output_type": "execute_result"
    }
   ],
   "source": [
    "class MathOperation:\n",
    "    def square(self, number):\n",
    "        return number ** 2\n",
    "\n",
    "MathOperation().square(4)"
   ]
  },
  {
   "cell_type": "markdown",
   "id": "ff62badf",
   "metadata": {},
   "source": [
    "## 6. Create two objects of a class and demonstrate that they are independent"
   ]
  },
  {
   "cell_type": "code",
   "execution_count": 7,
   "id": "b9fdee1a",
   "metadata": {},
   "outputs": [
    {
     "name": "stdout",
     "output_type": "stream",
     "text": [
      "Hello, my name is Alice\n",
      "Hello, my name is Bob\n",
      "Hello, my name is Charlie\n",
      "Hello, my name is Bob\n"
     ]
    }
   ],
   "source": [
    "class Person:\n",
    "    def __init__(self, name):\n",
    "        self.name = name\n",
    "\n",
    "    def greet(self):\n",
    "        print(f\"Hello, my name is {self.name}\")\n",
    "\n",
    "person1 = Person(\"Alice\")\n",
    "person2 = Person(\"Bob\")\n",
    "\n",
    "person1.greet()\n",
    "person2.greet()\n",
    "\n",
    "# Changed name for one object only\n",
    "person1.name = \"Charlie\"\n",
    "\n",
    "# person2 is unaffected\n",
    "person1.greet()\n",
    "person2.greet()"
   ]
  },
  {
   "cell_type": "markdown",
   "id": "49cdb4dd",
   "metadata": {},
   "source": [
    "## 7. Create a class and use a method to set its attributes"
   ]
  },
  {
   "cell_type": "code",
   "execution_count": 8,
   "id": "0a7ecd29",
   "metadata": {},
   "outputs": [
    {
     "name": "stdout",
     "output_type": "stream",
     "text": [
      "Car: 2020 Toyota Corolla\n"
     ]
    }
   ],
   "source": [
    "class Car:\n",
    "    def __init__(self):\n",
    "        self.make = None\n",
    "        self.model = None\n",
    "        self.year = None\n",
    "\n",
    "    def set_details(self, make, model, year):\n",
    "        self.make = make\n",
    "        self.model = model\n",
    "        self.year = year\n",
    "\n",
    "    def display_info(self):\n",
    "        print(f\"Car: {self.year} {self.make} {self.model}\")\n",
    "        \n",
    "my_car = Car()\n",
    "\n",
    "# Set the attributes using a method\n",
    "my_car.set_details(\"Toyota\", \"Corolla\", 2020)\n",
    "\n",
    "my_car.display_info()\n",
    "\n"
   ]
  },
  {
   "cell_type": "markdown",
   "id": "3ea861bb",
   "metadata": {},
   "source": [
    "## 8. Demonstrate use of `isinstance()` with a class"
   ]
  },
  {
   "cell_type": "code",
   "execution_count": 9,
   "id": "945c471b",
   "metadata": {},
   "outputs": [
    {
     "name": "stdout",
     "output_type": "stream",
     "text": [
      "True\n",
      "True\n",
      "True\n",
      "True\n",
      "False\n"
     ]
    }
   ],
   "source": [
    "class Animal:\n",
    "    def speak(self):\n",
    "        print(\"Some generic animal sound\")\n",
    "\n",
    "class Dog(Animal):\n",
    "    def speak(self):\n",
    "        print(\"Woof!\")\n",
    "\n",
    "class Cat(Animal):\n",
    "    def speak(self):\n",
    "        print(\"Meow!\")\n",
    "\n",
    "\n",
    "dog = Dog()\n",
    "cat = Cat()\n",
    "\n",
    "print(isinstance(dog, Dog))\n",
    "print(isinstance(cat, Cat))\n",
    "print(isinstance(dog, Animal))\n",
    "print(isinstance(cat, Animal))\n",
    "print(isinstance(dog, Cat))\n"
   ]
  },
  {
   "cell_type": "markdown",
   "id": "473825c0",
   "metadata": {},
   "source": [
    "## 9. Demonstrate single inheritance in Python"
   ]
  },
  {
   "cell_type": "code",
   "execution_count": 10,
   "id": "843081aa",
   "metadata": {},
   "outputs": [
    {
     "name": "stdout",
     "output_type": "stream",
     "text": [
      "Toyota vehicle is starting...\n",
      "Toyota car is driving...\n"
     ]
    }
   ],
   "source": [
    "# Parent Class\n",
    "class Vehicle:\n",
    "    def __init__(self, brand):\n",
    "        self.brand = brand\n",
    "\n",
    "    def start(self):\n",
    "        print(f\"{self.brand} vehicle is starting...\")\n",
    "\n",
    "# Child Class inheriting from Vehicle\n",
    "class Car(Vehicle):\n",
    "    def drive(self):\n",
    "        print(f\"{self.brand} car is driving...\")\n",
    "\n",
    "my_car = Car(\"Toyota\")\n",
    "\n",
    "my_car.start()\n",
    "my_car.drive()\n"
   ]
  },
  {
   "cell_type": "markdown",
   "id": "bbf79f30",
   "metadata": {},
   "source": [
    "## 10. Create a base class and derive two child classes with different methods(multi level inheritance)"
   ]
  },
  {
   "cell_type": "code",
   "execution_count": 11,
   "id": "eb3939b8",
   "metadata": {},
   "outputs": [
    {
     "name": "stdout",
     "output_type": "stream",
     "text": [
      "Animal breathes.\n",
      "Mammal walks on land.\n",
      "Dog barks.\n"
     ]
    }
   ],
   "source": [
    "class Animal:\n",
    "    def breathe(self):\n",
    "        print(\"Animal breathes.\")\n",
    "\n",
    "class Mammal(Animal):\n",
    "    def walk(self):\n",
    "        print(\"Mammal walks on land.\")\n",
    "\n",
    "class Dog(Mammal):\n",
    "    def bark(self):\n",
    "        print(\"Dog barks.\")\n",
    "\n",
    "buddy = Dog()\n",
    "\n",
    "buddy.breathe()\n",
    "buddy.walk()\n",
    "buddy.bark()\n"
   ]
  },
  {
   "cell_type": "markdown",
   "id": "eac5aac9",
   "metadata": {},
   "source": [
    "## 11. Demonstrate method overriding in inheritance"
   ]
  },
  {
   "cell_type": "code",
   "execution_count": 12,
   "id": "6cf3ce4d",
   "metadata": {},
   "outputs": [
    {
     "name": "stdout",
     "output_type": "stream",
     "text": [
      "Animal makes a sound\n",
      "Dog barks\n",
      "Cat meows\n"
     ]
    }
   ],
   "source": [
    "class Animal:\n",
    "    def speak(self):\n",
    "        print(\"Animal makes a sound\")\n",
    "\n",
    "class Dog(Animal):\n",
    "    def speak(self):\n",
    "        print(\"Dog barks\")\n",
    "\n",
    "class Cat(Animal):\n",
    "    def speak(self):\n",
    "        print(\"Cat meows\")\n",
    "\n",
    "a = Animal()\n",
    "d = Dog()\n",
    "c = Cat()\n",
    "\n",
    "a.speak()  # Animal's version\n",
    "d.speak()  # Dog's version overrides Animal's\n",
    "c.speak()  # Cat's version overrides Animal's\n"
   ]
  },
  {
   "cell_type": "markdown",
   "id": "f8f8f6d9",
   "metadata": {},
   "source": [
    "## 12. Use `super()` to call a parent class method. "
   ]
  },
  {
   "cell_type": "code",
   "execution_count": 14,
   "id": "bfec0487",
   "metadata": {},
   "outputs": [
    {
     "name": "stdout",
     "output_type": "stream",
     "text": [
      "Animal makes a sound\n",
      "Dog barks\n"
     ]
    }
   ],
   "source": [
    "class Animal:\n",
    "    def speak(self):\n",
    "        print(\"Animal makes a sound\")\n",
    "\n",
    "class Dog(Animal):\n",
    "    def speak(self):\n",
    "        # Call the parent class method first\n",
    "        super().speak()\n",
    "        print(\"Dog barks\")\n",
    "\n",
    "d = Dog()\n",
    "d.speak()\n"
   ]
  },
  {
   "cell_type": "markdown",
   "id": "8214b8d5",
   "metadata": {},
   "source": [
    "## 13. Create an abstract base class using `abc` module."
   ]
  },
  {
   "cell_type": "code",
   "execution_count": 15,
   "id": "b99ad505",
   "metadata": {},
   "outputs": [
    {
     "name": "stdout",
     "output_type": "stream",
     "text": [
      "Area: 50\n",
      "Perimeter: 30\n"
     ]
    }
   ],
   "source": [
    "from abc import ABC, abstractmethod\n",
    "\n",
    "class Shape(ABC):\n",
    "    \n",
    "    @abstractmethod\n",
    "    def area(self):\n",
    "        pass\n",
    "    \n",
    "    @abstractmethod\n",
    "    def perimeter(self):\n",
    "        pass\n",
    "\n",
    "class Rectangle(Shape):\n",
    "    def __init__(self, width, height):\n",
    "        self.width = width\n",
    "        self.height = height\n",
    "    \n",
    "    def area(self):\n",
    "        return self.width * self.height\n",
    "    \n",
    "    def perimeter(self):\n",
    "        return 2 * (self.width + self.height)\n",
    "\n",
    "r = Rectangle(5, 10)\n",
    "print(\"Area:\", r.area())\n",
    "print(\"Perimeter:\", r.perimeter())"
   ]
  },
  {
   "cell_type": "markdown",
   "id": "e20f5cbb",
   "metadata": {},
   "source": [
    "## 14. Demonstrate multiple inheritance in Python"
   ]
  },
  {
   "cell_type": "code",
   "execution_count": 16,
   "id": "5ff47995",
   "metadata": {},
   "outputs": [
    {
     "name": "stdout",
     "output_type": "stream",
     "text": [
      "Flying high!\n",
      "Swimming in the water!\n",
      "Quack quack!\n"
     ]
    }
   ],
   "source": [
    "# Parent class 1\n",
    "class Flyer:\n",
    "    def fly(self):\n",
    "        return \"Flying high!\"\n",
    "\n",
    "# Parent class 2\n",
    "class Swimmer:\n",
    "    def swim(self):\n",
    "        return \"Swimming in the water!\"\n",
    "\n",
    "# Child class inheriting from both Flyer and Swimmer\n",
    "class Duck(Flyer, Swimmer):\n",
    "    def quack(self):\n",
    "        return \"Quack quack!\"\n",
    "\n",
    "\n",
    "d = Duck()\n",
    "print(d.fly())\n",
    "print(d.swim())\n",
    "print(d.quack())\n"
   ]
  },
  {
   "cell_type": "markdown",
   "id": "db4796f4",
   "metadata": {},
   "source": [
    "## 15. Demonstrate encapsulation using getter and setter"
   ]
  },
  {
   "cell_type": "code",
   "execution_count": null,
   "id": "1e53e897",
   "metadata": {},
   "outputs": [
    {
     "name": "stdout",
     "output_type": "stream",
     "text": [
      "25\n",
      "30\n",
      "Age cannot be negative!\n",
      "30\n"
     ]
    }
   ],
   "source": [
    "class Person:\n",
    "    def __init__(self, name, age):\n",
    "        self._name = name       \n",
    "        self._age = age         \n",
    "        \n",
    "    # Getter for age\n",
    "    def get_age(self):\n",
    "        return self._age\n",
    "    \n",
    "    # Setter for age\n",
    "    def set_age(self, age):\n",
    "        if age >= 0:\n",
    "            self._age = age\n",
    "        else:\n",
    "            print(\"Age cannot be negative!\")\n",
    "\n",
    "p = Person(\"Alice\", 25)\n",
    "print(p.get_age())\n",
    "\n",
    "p.set_age(30)\n",
    "print(p.get_age())\n",
    "\n",
    "p.set_age(-5)       \n",
    "print(p.get_age())\n"
   ]
  },
  {
   "cell_type": "markdown",
   "id": "48525ebd",
   "metadata": {},
   "source": [
    "## 16. Write a program to demonstrate polymorphism with a common method"
   ]
  },
  {
   "cell_type": "code",
   "execution_count": null,
   "id": "c68abc27",
   "metadata": {},
   "outputs": [
    {
     "name": "stdout",
     "output_type": "stream",
     "text": [
      "Bird says: Chirp Chirp\n",
      "Dog says: Woof Woof\n",
      "Cat says: Meow Meow\n"
     ]
    }
   ],
   "source": [
    "class Bird:\n",
    "    def sound(self):\n",
    "        print(\"Bird says: Chirp Chirp\")\n",
    "\n",
    "class Dog:\n",
    "    def sound(self):\n",
    "        print(\"Dog says: Woof Woof\")\n",
    "\n",
    "class Cat:\n",
    "    def sound(self):\n",
    "        print(\"Cat says: Meow Meow\")\n",
    "\n",
    "# A function that accepts any animal and calls its sound method\n",
    "def make_sound(animal):\n",
    "    animal.sound()\n",
    "\n",
    "bird = Bird()\n",
    "dog = Dog()\n",
    "cat = Cat()\n",
    "\n",
    "# Using the same function on different objects\n",
    "make_sound(bird)\n",
    "make_sound(dog)\n",
    "make_sound(cat)\n"
   ]
  },
  {
   "cell_type": "markdown",
   "id": "72341e7d",
   "metadata": {},
   "source": [
    "## 17. Create a class `Employee` with a method to display the number of employees created"
   ]
  },
  {
   "cell_type": "code",
   "execution_count": null,
   "id": "8739e977",
   "metadata": {},
   "outputs": [
    {
     "name": "stdout",
     "output_type": "stream",
     "text": [
      "Number of employees created: 3\n"
     ]
    }
   ],
   "source": [
    "class Employee:\n",
    "    employee_count = 0\n",
    "\n",
    "    def __init__(self, name):\n",
    "        self.name = name\n",
    "        Employee.employee_count += 1\n",
    "\n",
    "    @classmethod\n",
    "    def display_employee_count(cls):\n",
    "        print(f\"Number of employees created: {cls.employee_count}\")\n",
    "\n",
    "e1 = Employee(\"Shahrukh\")\n",
    "e2 = Employee(\"Salman\")\n",
    "e3 = Employee(\"Amir\")\n",
    "\n",
    "Employee.display_employee_count()\n"
   ]
  },
  {
   "cell_type": "markdown",
   "id": "6275d8a8",
   "metadata": {},
   "source": [
    "## 18. Demonstrate constructor overloading using default arguments"
   ]
  },
  {
   "cell_type": "code",
   "execution_count": 21,
   "id": "036ae5a5",
   "metadata": {},
   "outputs": [
    {
     "name": "stdout",
     "output_type": "stream",
     "text": [
      "Name: Unknown, Age: 0\n",
      "Name: Alice, Age: 0\n",
      "Name: Bob, Age: 25\n"
     ]
    }
   ],
   "source": [
    "class Person:\n",
    "    def __init__(self, name=\"Unknown\", age=0):\n",
    "        self.name = name\n",
    "        self.age = age\n",
    "\n",
    "    def display(self):\n",
    "        print(f\"Name: {self.name}, Age: {self.age}\")\n",
    "\n",
    "# Using default constructor\n",
    "p1 = Person()\n",
    "p1.display()\n",
    "\n",
    "# Passing only name\n",
    "p2 = Person(name=\"Alice\")\n",
    "p2.display()\n",
    "\n",
    "# Passing both name and age\n",
    "p3 = Person(name=\"Bob\", age=25)\n",
    "p3.display()\n"
   ]
  },
  {
   "cell_type": "markdown",
   "id": "50583f41",
   "metadata": {},
   "source": [
    "## 19. Implement a bank account system with deposit and withdrawal methods"
   ]
  },
  {
   "cell_type": "code",
   "execution_count": 24,
   "id": "bf2a1970",
   "metadata": {},
   "outputs": [
    {
     "name": "stdout",
     "output_type": "stream",
     "text": [
      "Deposited Rs 1000. New balance is Rs 1000.\n",
      "Withdrew Rs 300. New balance is Rs 700.\n",
      "Insufficient balance!\n",
      "Account owner: Ambani, Balance: Rs 700\n"
     ]
    }
   ],
   "source": [
    "class BankAccount:\n",
    "    def __init__(self, owner, balance=0):\n",
    "        self.owner = owner\n",
    "        self.balance = balance\n",
    "\n",
    "    def deposit(self, amount):\n",
    "        if amount > 0:\n",
    "            self.balance += amount\n",
    "            print(f\"Deposited Rs {amount}. New balance is Rs {self.balance}.\")\n",
    "        else:\n",
    "            print(\"Deposit amount must be positive!\")\n",
    "\n",
    "    def withdraw(self, amount):\n",
    "        if amount <= 0:\n",
    "            print(\"Withdrawal amount must be positive!\")\n",
    "        elif amount > self.balance:\n",
    "            print(\"Insufficient balance!\")\n",
    "        else:\n",
    "            self.balance -= amount\n",
    "            print(f\"Withdrew Rs {amount}. New balance is Rs {self.balance}.\")\n",
    "\n",
    "    def get_balance(self):\n",
    "        return self.balance\n",
    "\n",
    "    def __str__(self):\n",
    "        return f\"Account owner: {self.owner}, Balance: Rs {self.balance}\"\n",
    "\n",
    "acc = BankAccount(\"Ambani\")\n",
    "acc.deposit(1000)\n",
    "acc.withdraw(300)\n",
    "acc.withdraw(800)\n",
    "print(acc)\n"
   ]
  },
  {
   "cell_type": "markdown",
   "id": "382c3bd8",
   "metadata": {},
   "source": [
    "## 20. Create a class `Rectangle` with method to calculate area and perimeter"
   ]
  },
  {
   "cell_type": "code",
   "execution_count": 29,
   "id": "8f4bb2d3",
   "metadata": {},
   "outputs": [
    {
     "name": "stdout",
     "output_type": "stream",
     "text": [
      "Area of Rectangle having length 30 units and breadth 20 units is 600 sq. units and perimeter is 100 units\n"
     ]
    }
   ],
   "source": [
    "class Rectangle:\n",
    "    def __init__(self,length,breadth):\n",
    "        self.length=length\n",
    "        self.breadth=breadth\n",
    "    def area(self):\n",
    "        return self.length * self.breadth\n",
    "    def perimeter(self):\n",
    "        return 2 * (self.length + self.breadth)\n",
    "    \n",
    "print(f'Area of Rectangle having length 30 units and breadth 20 units is {Rectangle(30,20).area()} sq. units and perimeter is {Rectangle(30,20).perimeter()} units')"
   ]
  }
 ],
 "metadata": {
  "kernelspec": {
   "display_name": "ml_internship",
   "language": "python",
   "name": "python3"
  },
  "language_info": {
   "codemirror_mode": {
    "name": "ipython",
    "version": 3
   },
   "file_extension": ".py",
   "mimetype": "text/x-python",
   "name": "python",
   "nbconvert_exporter": "python",
   "pygments_lexer": "ipython3",
   "version": "3.13.2"
  }
 },
 "nbformat": 4,
 "nbformat_minor": 5
}
