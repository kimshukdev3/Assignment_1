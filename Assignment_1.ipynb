{
 "cells": [
  {
   "cell_type": "markdown",
   "id": "348d091d",
   "metadata": {},
   "source": [
    "## Assignments Dated: 21 May, 2025"
   ]
  },
  {
   "cell_type": "code",
   "execution_count": 3,
   "id": "269c550f",
   "metadata": {
    "editable": true,
    "slideshow": {
     "slide_type": ""
    },
    "tags": []
   },
   "outputs": [
    {
     "name": "stdout",
     "output_type": "stream",
     "text": [
      "1 2 3 4 5 6 7 8 9 10 "
     ]
    }
   ],
   "source": [
    "# Print numbers from 1 to 10\n",
    "for i in range(1,11):\n",
    "    print(i,end=' ')"
   ]
  },
  {
   "cell_type": "code",
   "execution_count": 4,
   "id": "f8de9d43",
   "metadata": {},
   "outputs": [
    {
     "name": "stdout",
     "output_type": "stream",
     "text": [
      "2 4 6 8 10 12 14 16 18 20 "
     ]
    }
   ],
   "source": [
    "# Print even numbers from 1 to 20\n",
    "for i in range(1,21):\n",
    "    if(i%2==0):\n",
    "        print(i,end=' ')\n"
   ]
  },
  {
   "cell_type": "code",
   "execution_count": 7,
   "id": "a83e9f5b",
   "metadata": {},
   "outputs": [
    {
     "name": "stdout",
     "output_type": "stream",
     "text": [
      "The number 0 is equal to zero.\n"
     ]
    }
   ],
   "source": [
    "# Check if a number is positive, negative or zero\n",
    "num=int(input('Type a number to check whether it is positive, negative or zero: '))\n",
    "if(num>0):\n",
    "    print(f\"The number {num} is positive.\")\n",
    "elif(num<0):\n",
    "    print(f'The number {num} is negative.')\n",
    "elif(num==0):\n",
    "    print(f'The number {num} is equal to zero.')"
   ]
  },
  {
   "cell_type": "code",
   "execution_count": 8,
   "id": "bc5b00e9",
   "metadata": {},
   "outputs": [
    {
     "name": "stdout",
     "output_type": "stream",
     "text": [
      "Addition of the numbers 1 and 2 is: 3\n"
     ]
    }
   ],
   "source": [
    "# Add two numbers using operators\n",
    "num1=int(input('Enter number 1: '))\n",
    "num2=int(input('Enter number 2: '))\n",
    "print(f'Addition of the numbers {num1} and {num2} is: {num1+num2}')"
   ]
  },
  {
   "cell_type": "code",
   "execution_count": 9,
   "id": "c0413577",
   "metadata": {},
   "outputs": [
    {
     "name": "stdout",
     "output_type": "stream",
     "text": [
      "20 is greater than 19\n"
     ]
    }
   ],
   "source": [
    "# Find the largest among two numbers\n",
    "num1=int(input('Enter number 1: '))\n",
    "num2=int(input('Enter number 2: '))\n",
    "if num1 > num2:\n",
    "    print(f'{num1} is greater than {num2}')\n",
    "else:\n",
    "    print(f'{num2} is greater than {num1}')"
   ]
  },
  {
   "cell_type": "code",
   "execution_count": 11,
   "id": "1eb2c178",
   "metadata": {},
   "outputs": [
    {
     "name": "stdout",
     "output_type": "stream",
     "text": [
      "5 4 3 2 1 "
     ]
    }
   ],
   "source": [
    "# Use a while loop to print numbers from 5 to 1\n",
    "i=5\n",
    "while i>0:\n",
    "    print(i,end=' ')\n",
    "    i-=1"
   ]
  },
  {
   "cell_type": "code",
   "execution_count": 13,
   "id": "0aacaf38",
   "metadata": {},
   "outputs": [
    {
     "name": "stdout",
     "output_type": "stream",
     "text": [
      "T\n",
      "h\n",
      "i\n",
      "s\n",
      " \n",
      "i\n",
      "s\n",
      " \n",
      "a\n",
      " \n",
      "s\n",
      "t\n",
      "r\n",
      "i\n",
      "n\n",
      "g\n"
     ]
    }
   ],
   "source": [
    "# Print all characters in a string\n",
    "str='This is a string'\n",
    "for i in str:\n",
    "    print(i)"
   ]
  },
  {
   "cell_type": "code",
   "execution_count": 15,
   "id": "82172aad",
   "metadata": {},
   "outputs": [
    {
     "name": "stdout",
     "output_type": "stream",
     "text": [
      "The number 23 resides between 10 and 50\n"
     ]
    }
   ],
   "source": [
    "# Use logical operator to check if a number is between 10 to 50\n",
    "num=int(input('Enter a number to check whether it resides between 10 and 50'))\n",
    "if(num>10 and num<50):\n",
    "    print(f'The number {num} resides between 10 and 50')\n",
    "else:\n",
    "    print(f'The number {num} does not reside between 10 and 50')"
   ]
  },
  {
   "cell_type": "code",
   "execution_count": 16,
   "id": "2a07089f",
   "metadata": {},
   "outputs": [
    {
     "name": "stdout",
     "output_type": "stream",
     "text": [
      "55\n"
     ]
    }
   ],
   "source": [
    "# Sum of first 10 natural numbers\n",
    "sum=0\n",
    "for i in range(1,11):\n",
    "    sum+=i\n",
    "print(sum)"
   ]
  },
  {
   "cell_type": "code",
   "execution_count": 17,
   "id": "c990a3e0",
   "metadata": {},
   "outputs": [
    {
     "name": "stdout",
     "output_type": "stream",
     "text": [
      "1 is odd\n",
      "2 is Even\n",
      "3 is odd\n",
      "4 is Even\n",
      "5 is odd\n",
      "6 is Even\n",
      "7 is odd\n",
      "8 is Even\n",
      "9 is odd\n",
      "10 is Even\n"
     ]
    }
   ],
   "source": [
    "# Print \"Odd\" and \"Even\" for numbers 1 to 10\n",
    "for i in range(1,11):\n",
    "    if i%2==0:\n",
    "        print(f'{i} is Even')\n",
    "    else:\n",
    "        print(f'{i} is odd')"
   ]
  },
  {
   "cell_type": "code",
   "execution_count": 19,
   "id": "507b23b2",
   "metadata": {},
   "outputs": [
    {
     "name": "stdout",
     "output_type": "stream",
     "text": [
      "1 2 3 4 "
     ]
    }
   ],
   "source": [
    "# Use \"break\" to stop loop when number is 5\n",
    "for i in range(1,10):\n",
    "    if i==5:\n",
    "        break\n",
    "    print(i, end=' ')"
   ]
  },
  {
   "cell_type": "code",
   "execution_count": 20,
   "id": "636906ab",
   "metadata": {},
   "outputs": [
    {
     "name": "stdout",
     "output_type": "stream",
     "text": [
      "1 2 3 4 6 7 8 9 10 "
     ]
    }
   ],
   "source": [
    "# Print 1 to 10 and use \"continue\" to skip printing 5\n",
    "for i in range(1, 11):\n",
    "    if i==5:\n",
    "        continue\n",
    "    print(i,end=' ')"
   ]
  },
  {
   "cell_type": "code",
   "execution_count": 22,
   "id": "0b87792c",
   "metadata": {},
   "outputs": [
    {
     "name": "stdout",
     "output_type": "stream",
     "text": [
      "1 2 3 santosh alex friends True 13.67 "
     ]
    }
   ],
   "source": [
    "# Print all elements in a list using a loop\n",
    "list=[1,2,3,\"santosh\",\"alex\",\"friends\",True,13.67]\n",
    "i=0\n",
    "while i<len(list):\n",
    "    print(list[i],end=' ')\n",
    "    i+=1"
   ]
  },
  {
   "cell_type": "code",
   "execution_count": 8,
   "id": "9ad9bd69",
   "metadata": {},
   "outputs": [
    {
     "name": "stdout",
     "output_type": "stream",
     "text": [
      "The number 30 is divisible by both 3 and 5\n"
     ]
    }
   ],
   "source": [
    "# Check if a number is divisible by both 3 and 5\n",
    "num=int(input('Enter a number to check if it is divisible by 3 and 5: '))\n",
    "if num%3==0 and num%5==0:\n",
    "    print(f'The number {num} is divisible by both 3 and 5')\n",
    "else:\n",
    "    print(f'The number {num} is not divisible by both 3 and 5')"
   ]
  },
  {
   "cell_type": "code",
   "execution_count": 9,
   "id": "bb4ecbb5",
   "metadata": {},
   "outputs": [
    {
     "name": "stdout",
     "output_type": "stream",
     "text": [
      "Square of 1 is: 1\n",
      "Square of 2 is: 4\n",
      "Square of 3 is: 9\n",
      "Square of 4 is: 16\n",
      "Square of 5 is: 25\n"
     ]
    }
   ],
   "source": [
    "# Print square of all numbers from 1 to 5\n",
    "for i in range(1,6):\n",
    "    print(f'Square of {i} is: {i**2}')"
   ]
  },
  {
   "cell_type": "code",
   "execution_count": 1,
   "id": "9743096a",
   "metadata": {},
   "outputs": [
    {
     "name": "stdout",
     "output_type": "stream",
     "text": [
      "ASCII value of B is 66\n",
      "ASCII value of o is 111\n",
      "ASCII value of b is 98\n",
      "ASCII value of   is 32\n",
      "ASCII value of i is 105\n",
      "ASCII value of s is 115\n",
      "ASCII value of   is 32\n",
      "ASCII value of a is 97\n",
      "ASCII value of   is 32\n",
      "ASCII value of g is 103\n",
      "ASCII value of o is 111\n",
      "ASCII value of o is 111\n",
      "ASCII value of d is 100\n",
      "ASCII value of   is 32\n",
      "ASCII value of b is 98\n",
      "ASCII value of o is 111\n",
      "ASCII value of y is 121\n",
      "Another Approach\n",
      "ASCII value of B is 66\n",
      "ASCII value of o is 111\n",
      "ASCII value of b is 98\n",
      "ASCII value of   is 32\n",
      "ASCII value of i is 105\n",
      "ASCII value of s is 115\n",
      "ASCII value of   is 32\n",
      "ASCII value of a is 97\n",
      "ASCII value of   is 32\n",
      "ASCII value of g is 103\n",
      "ASCII value of o is 111\n",
      "ASCII value of o is 111\n",
      "ASCII value of d is 100\n",
      "ASCII value of   is 32\n",
      "ASCII value of b is 98\n",
      "ASCII value of o is 111\n",
      "ASCII value of y is 121\n"
     ]
    }
   ],
   "source": [
    "# Print ASCII values of all characters in a string\n",
    "str='Bob is a good boy'\n",
    "for i in str:\n",
    "    print(f'ASCII value of {i} is',i.encode()[0])\n",
    "\n",
    "# Another approach\n",
    "print('Another Approach')\n",
    "for i in str:\n",
    "    print(f'ASCII value of {i} is',ord(i))"
   ]
  },
  {
   "cell_type": "code",
   "execution_count": 16,
   "id": "43429f5b",
   "metadata": {},
   "outputs": [
    {
     "name": "stdout",
     "output_type": "stream",
     "text": [
      "10\n",
      "9\n",
      "8\n",
      "7\n",
      "6\n",
      "5\n",
      "4\n",
      "3\n",
      "2\n",
      "1\n"
     ]
    }
   ],
   "source": [
    "# Count down from 10 to 1 using while\n",
    "i=10\n",
    "while i>0:\n",
    "    print(i)\n",
    "    i-=1"
   ]
  },
  {
   "cell_type": "code",
   "execution_count": 18,
   "id": "8b3d7822",
   "metadata": {},
   "outputs": [
    {
     "name": "stdout",
     "output_type": "stream",
     "text": [
      "No, the number 17 is not divisible by 2 or 3\n"
     ]
    }
   ],
   "source": [
    "# Check if a number is divisible by 2 or 3\n",
    "num=int(input('Enter a number to check if it is divisible by 2 or 3: '))\n",
    "if num%2==0 or num%3==0:\n",
    "    print(f'Yes, the number {num} is divisible by 2 or 3')\n",
    "else:\n",
    "    print(f'No, the number {num} is not divisible by 2 or 3')"
   ]
  },
  {
   "cell_type": "code",
   "execution_count": 103,
   "id": "fd891b89",
   "metadata": {},
   "outputs": [
    {
     "name": "stdout",
     "output_type": "stream",
     "text": [
      "The sum of the digits of the number 698 is 23\n",
      "The sum of the digits of the number 698 is 23\n"
     ]
    }
   ],
   "source": [
    "# Print sum of digits of a number\n",
    "############ Approach 1  ###########\n",
    "# Here we ask the user for a numeric input but we will not type cast to int type \n",
    "# else use the string format of number to iterate over every number and then type\n",
    "# cast to every single digit to int and add them up\n",
    "num=input('Enter a number: ')\n",
    "sum=0\n",
    "for i in num:\n",
    "    sum+=int(i)\n",
    "print(f'The sum of the digits of the number {num} is {sum}')\n",
    "\n",
    "############ Approach 2 ############\n",
    "# Here we add the given number with the sum value and get the remainder by dividing\n",
    "# the result with 10 and then divide the number with 10 to get the quotient and do this repeatedly till the number reaches 0\n",
    "sum=0\n",
    "num1=int(num)\n",
    "while num1!=0:\n",
    "    sum=sum+num1%10\n",
    "    num1=num1//10\n",
    "\n",
    "print(f'The sum of the digits of the number {int(num)} is {sum}')"
   ]
  },
  {
   "cell_type": "code",
   "execution_count": 63,
   "id": "719ea453",
   "metadata": {},
   "outputs": [
    {
     "name": "stdout",
     "output_type": "stream",
     "text": [
      "First Number is 24 and Second Number is 356\n",
      "First Number is 356 and Second Number is 24\n"
     ]
    }
   ],
   "source": [
    "# Swap two numbers using a temporary variable\n",
    "num1=int(input('Enter number 1: '))\n",
    "num2=int(input('Enter number 2: '))\n",
    "\n",
    "print(f'First Number is {num1} and Second Number is {num2}')\n",
    "temp=num1\n",
    "num1=num2\n",
    "num2=temp\n",
    "print(f'First Number is {num1} and Second Number is {num2}')"
   ]
  },
  {
   "cell_type": "code",
   "execution_count": 64,
   "id": "ad8875f2",
   "metadata": {},
   "outputs": [
    {
     "name": "stdout",
     "output_type": "stream",
     "text": [
      "7 14 21 28 35 42 49 56 63 70 77 84 91 98 "
     ]
    }
   ],
   "source": [
    "# Print numbers from 1 to 100 that are divisible by 7\n",
    "for i in range(1,101):\n",
    "    if(i%7==0):\n",
    "        print(i,end=' ')"
   ]
  },
  {
   "cell_type": "code",
   "execution_count": 79,
   "id": "359c663c",
   "metadata": {},
   "outputs": [
    {
     "name": "stdout",
     "output_type": "stream",
     "text": [
      "---------Approach 1---------\n"
     ]
    },
    {
     "name": "stdout",
     "output_type": "stream",
     "text": [
      "Factorial of the number 5 is 120\n",
      "---------Approach 2---------\n",
      "Factorial of the number 5 is 120\n"
     ]
    }
   ],
   "source": [
    "# Find factorial of a number\n",
    "print('---------Approach 1---------')\n",
    "# Using Recursion\n",
    "def fact(num):\n",
    "    if num==0 or num==1:\n",
    "        return 1\n",
    "    else:\n",
    "        num=num*fact(num-1)\n",
    "        return num\n",
    "\n",
    "number=int(input('Enter a number: '))\n",
    "print(f'Factorial of the number {number} is {fact(number)}')\n",
    "\n",
    "print('---------Approach 2---------')\n",
    "# Using loop\n",
    "print(f'Factorial of the number {number} is',end=' ')\n",
    "if number==1 or number==0:\n",
    "    print(1)\n",
    "else:\n",
    "    i=number\n",
    "    while i!=1:\n",
    "        number=number*(i-1)\n",
    "        i-=1\n",
    "    print(number)"
   ]
  },
  {
   "cell_type": "code",
   "execution_count": null,
   "id": "3439f2fc",
   "metadata": {},
   "outputs": [
    {
     "name": "stdout",
     "output_type": "stream",
     "text": [
      "Number of vowels in the string \"Sofia is eating Icecream\" is 11\n"
     ]
    }
   ],
   "source": [
    "# Count vowels in a string\n",
    "vowels=['a','e','i','o','u']\n",
    "count=0\n",
    "str=input('Enter a string: ')\n",
    "for i in str.lower():\n",
    "    if i in vowels:\n",
    "        count+=1\n",
    "        \n",
    "print(f'Number of vowels in the string \\\"{str}\\\" is {count}')"
   ]
  },
  {
   "cell_type": "code",
   "execution_count": 108,
   "id": "482f22f0",
   "metadata": {},
   "outputs": [
    {
     "name": "stdout",
     "output_type": "stream",
     "text": [
      "---------Approach 1----------\n",
      "Reverse of the number 1287 is 7821\n",
      "---------Approach 2----------\n",
      "Reverse of the number 1287 is 7821\n",
      "---------Approach 3----------\n",
      "Reverse of the number 1287 is 7821\n"
     ]
    }
   ],
   "source": [
    "# Reverse a number using loop\n",
    "print('---------Approach 1----------')\n",
    "# Using string input of numbers\n",
    "num=input('Enter a number: ')\n",
    "list=[]\n",
    "for val in num:\n",
    "    list.insert(0,val)\n",
    "\n",
    "print(f'Reverse of the number {num} is',end=' ')\n",
    "for i in list:\n",
    "    print(i,end='')\n",
    "print('\\n---------Approach 2----------')\n",
    "# Using string concatenation\n",
    "num_reversed=''\n",
    "for i in num:\n",
    "    num_reversed=i+num_reversed\n",
    "    \n",
    "print(f'Reverse of the number {num} is {num_reversed}')\n",
    "\n",
    "print('---------Approach 3----------')\n",
    "# Using integer input of the number\n",
    "reverse=0\n",
    "print(f'Reverse of the number {num} is',end=' ')\n",
    "num=int(num)\n",
    "while num>0:\n",
    "    digit=num%10\n",
    "    reverse=reverse*10+digit\n",
    "    num=num//10\n",
    "\n",
    "print(reverse)"
   ]
  },
  {
   "cell_type": "code",
   "execution_count": 109,
   "id": "78326815",
   "metadata": {},
   "outputs": [
    {
     "name": "stdout",
     "output_type": "stream",
     "text": [
      "The maximum number in the list is: 87\n"
     ]
    }
   ],
   "source": [
    "# Find the maximum in a list using loop\n",
    "list=[1,2,4,3,87,45,21,12]\n",
    "max=list[0]\n",
    "for i in list:\n",
    "    if i> max:\n",
    "        max=i\n",
    "    \n",
    "print(f'The maximum number in the list is: {max}')\n"
   ]
  },
  {
   "cell_type": "code",
   "execution_count": null,
   "id": "bec637a4",
   "metadata": {},
   "outputs": [
    {
     "name": "stdout",
     "output_type": "stream",
     "text": [
      "The number 1 is not a prime number\n",
      "The number 2 is a prime number\n",
      "The number 3 is a prime number\n",
      "The number 4 is not a prime number\n",
      "The number 5 is a prime number\n",
      "The number 6 is not a prime number\n",
      "The number 7 is a prime number\n",
      "The number 8 is not a prime number\n",
      "The number 9 is not a prime number\n",
      "The number 10 is not a prime number\n",
      "The number 11 is a prime number\n",
      "The number 12 is not a prime number\n",
      "The number 13 is a prime number\n",
      "The number 14 is not a prime number\n",
      "The number 15 is not a prime number\n",
      "The number 16 is not a prime number\n",
      "The number 17 is a prime number\n",
      "The number 18 is not a prime number\n",
      "The number 19 is a prime number\n",
      "The number 20 is not a prime number\n"
     ]
    }
   ],
   "source": [
    "# Prime number check using loop\n",
    "# The logic is any number is a prime number (except 0 and 1) if and only \n",
    "# if it is not divisible by the numbers between 2 to the square of the number itself\n",
    "for i in range(1,21):\n",
    "    if i==1 or i==0:\n",
    "        print(f'The number {i} is not a prime number')\n",
    "    elif i>1:\n",
    "        is_prime=True\n",
    "        for j in range(2,int(i**0.5)+1):\n",
    "            if i%j==0:\n",
    "                is_prime=False\n",
    "                break\n",
    "        if is_prime:\n",
    "            print(f'The number {i} is a prime number')\n",
    "        else:\n",
    "            print(f'The number {i} is not a prime number')"
   ]
  },
  {
   "cell_type": "code",
   "execution_count": 5,
   "id": "2ad0eaa8",
   "metadata": {},
   "outputs": [
    {
     "name": "stdout",
     "output_type": "stream",
     "text": [
      "The sum of the even numbers in the list is: 302\n"
     ]
    }
   ],
   "source": [
    "# Sum of even numbers in a list\n",
    "list=[1,2,45,34,56,65,23,32,78,87,100]\n",
    "sum=0\n",
    "for i in list:\n",
    "    if i%2==0:\n",
    "        sum+=i\n",
    "\n",
    "print(f'The sum of the even numbers in the list is: {sum}')"
   ]
  },
  {
   "cell_type": "code",
   "execution_count": 10,
   "id": "ed1a3f4a",
   "metadata": {},
   "outputs": [
    {
     "name": "stdout",
     "output_type": "stream",
     "text": [
      "1 \n",
      "1 2 \n",
      "1 2 3 \n",
      "1 2 3 4 \n",
      "1 2 3 4 5 \n"
     ]
    }
   ],
   "source": [
    "# Print number pattern using nested loops\n",
    "for i in range(1,6):\n",
    "    for j in range(1,i+1):\n",
    "        print(j,end=' ')\n",
    "    print()"
   ]
  },
  {
   "cell_type": "code",
   "execution_count": null,
   "id": "25c4aa7c",
   "metadata": {},
   "outputs": [
    {
     "name": "stdout",
     "output_type": "stream",
     "text": [
      "You entered 1322433115\n",
      "-----------Approach 1-----------\n",
      "The number of 1s is 3\n",
      "The number of 3s is 3\n",
      "The number of 2s is 2\n",
      "The number of 4s is 1\n",
      "The number of 5s is 1\n",
      "-----------Approach 2------------\n",
      "The number of 1s is 3\n",
      "The number of 3s is 3\n",
      "The number of 2s is 2\n",
      "The number of 4s is 1\n",
      "The number of 5s is 1\n"
     ]
    }
   ],
   "source": [
    "# Count frequency of digits in a number\n",
    "num=input('Enter a number: ')\n",
    "print(f'You entered {num}')\n",
    "print('-----------Approach 1-----------')\n",
    "my_dict={}\n",
    "for i in num:\n",
    "    if i in my_dict:\n",
    "        my_dict[i]+=1\n",
    "    else:\n",
    "        my_dict[i]=1\n",
    "\n",
    "for key,value in my_dict.items():\n",
    "    print(f'The number of {key}s is {value}')\n",
    "\n",
    "print('-----------Approach 2-----------')\n",
    "from collections import Counter\n",
    "mydict=Counter(num)\n",
    "\n",
    "for digit, count in my_dict.items():\n",
    "    print(f'The number of {digit}s is {count}')"
   ]
  },
  {
   "cell_type": "code",
   "execution_count": 11,
   "id": "6cd7bebc",
   "metadata": {},
   "outputs": [
    {
     "name": "stdout",
     "output_type": "stream",
     "text": [
      "The common list elements are: 1\n",
      "1\n",
      "4\n",
      "Robin\n"
     ]
    }
   ],
   "source": [
    "# Find common elements in two lists\n",
    "list1=[1,1,2,33,4,'Robin']\n",
    "list2=[1,42,'Robin',23,4]\n",
    "\n",
    "print('The common list elements are: ',end='')\n",
    "for i in list1:\n",
    "    for j in list2:\n",
    "        if i==j:\n",
    "            print(i)"
   ]
  },
  {
   "cell_type": "code",
   "execution_count": 15,
   "id": "39b8b728",
   "metadata": {},
   "outputs": [
    {
     "name": "stdout",
     "output_type": "stream",
     "text": [
      "Your marks is 42\n",
      "So, You got C grade\n"
     ]
    }
   ],
   "source": [
    "# Use elif to grade students based on score\n",
    "marks=int(input('Enter your marks: '))\n",
    "print(f'Your marks is {marks}')\n",
    "\n",
    "if marks<=100 and marks>80:\n",
    "    print('So, You got A grade')\n",
    "elif marks<=80 and marks>60:\n",
    "    print('So, You got B grade')\n",
    "elif marks<=60 and marks>40:\n",
    "    print('So, You got C grade')\n",
    "elif marks<=40 and marks>20:\n",
    "    print('So, You got D grade')\n",
    "elif marks<=20 and marks>=0:\n",
    "    print('So, You got E grade')\n",
    "else:\n",
    "    print('Invalid marks, give marks data between 0 to 100')"
   ]
  },
  {
   "cell_type": "code",
   "execution_count": 16,
   "id": "66d45400",
   "metadata": {},
   "outputs": [
    {
     "name": "stdout",
     "output_type": "stream",
     "text": [
      "* \n",
      "* * \n",
      "* * * \n",
      "* * * * \n",
      "* * * * * \n"
     ]
    }
   ],
   "source": [
    "# Print a right-angled triangle using *\n",
    "for i in range(1,6):\n",
    "    for j in range(1,i+1):\n",
    "        print('*',end=' ')\n",
    "    print()"
   ]
  },
  {
   "cell_type": "code",
   "execution_count": 18,
   "id": "98cce56a",
   "metadata": {},
   "outputs": [
    {
     "name": "stdout",
     "output_type": "stream",
     "text": [
      "Yes, 2024 is a leap year\n"
     ]
    }
   ],
   "source": [
    "# Check if a year is a leap year\n",
    "year =int(input('Enter year: '))\n",
    "\n",
    "if year%4==0:\n",
    "    print(f'Yes, {year} is a leap year')\n",
    "else:\n",
    "    print(f'No, {year} is not a leap year')"
   ]
  },
  {
   "cell_type": "code",
   "execution_count": 30,
   "id": "bd161cbb",
   "metadata": {},
   "outputs": [
    {
     "name": "stdout",
     "output_type": "stream",
     "text": [
      "0 1 1 2 3 5 8 13 21 34 55 89 144 233 377 610 987 1597 2584 4181 6765 "
     ]
    }
   ],
   "source": [
    "# Print Fibonacci Series using loop\n",
    "num=int(input('Enter a number: '))\n",
    "first=0\n",
    "second=1\n",
    "next=0\n",
    "for i in range(0,num):\n",
    "    if i<=1:\n",
    "        next=i\n",
    "    else: \n",
    "        next=first+second\n",
    "        first=second\n",
    "        second=next\n",
    "    \n",
    "    print(next,end=' ')"
   ]
  },
  {
   "cell_type": "code",
   "execution_count": 31,
   "id": "7f48f0c5",
   "metadata": {},
   "outputs": [
    {
     "name": "stdout",
     "output_type": "stream",
     "text": [
      "Lowercase letters count in the string LaTeX is 2 and uppercase letters count is 3\n"
     ]
    }
   ],
   "source": [
    "# Count uppercase letter and lowercase letters in a string\n",
    "str=input('Enter a string: ')\n",
    "\n",
    "upper=0\n",
    "lower=0\n",
    "\n",
    "for i in str:\n",
    "    if i.islower():\n",
    "        lower+=1\n",
    "    else:\n",
    "        upper+=1\n",
    "        \n",
    "print(f'Lowercase letters count in the string {str} is {lower} and uppercase letters count is {upper}')"
   ]
  },
  {
   "cell_type": "code",
   "execution_count": 35,
   "id": "895e550d",
   "metadata": {},
   "outputs": [
    {
     "name": "stdout",
     "output_type": "stream",
     "text": [
      "100 99 98 97 96 95 94 93 92 91 90 89 88 87 86 85 84 83 82 81 80 79 78 77 76 75 74 73 72 71 70 69 68 67 66 65 64 63 62 61 60 59 58 57 56 55 54 53 52 51 50 49 48 47 46 45 44 43 42 41 40 39 38 37 36 35 34 33 32 31 30 29 28 27 26 25 24 23 22 21 20 19 18 17 16 15 14 13 12 11 10 9 8 7 6 5 4 3 2 1 "
     ]
    }
   ],
   "source": [
    "# Print numbers from 100 to 1 using loop\n",
    "i=100\n",
    "while i>0:\n",
    "    print(i,end=' ')\n",
    "    i-=1"
   ]
  },
  {
   "cell_type": "code",
   "execution_count": 3,
   "id": "a926917d",
   "metadata": {},
   "outputs": [
    {
     "name": "stdout",
     "output_type": "stream",
     "text": [
      "8 X 1 = 8\n",
      "8 X 2 = 16\n",
      "8 X 3 = 24\n",
      "8 X 4 = 32\n",
      "8 X 5 = 40\n",
      "8 X 6 = 48\n",
      "8 X 7 = 56\n",
      "8 X 8 = 64\n",
      "8 X 9 = 72\n",
      "8 X 10 = 80\n"
     ]
    }
   ],
   "source": [
    "# Print Multiplication Table of a number\n",
    "num=int(input('Enter a number: '))\n",
    "for i in range(1,11):\n",
    "    print(f'{num} X {i} = {num*i}')"
   ]
  },
  {
   "cell_type": "code",
   "execution_count": 7,
   "id": "bb8d99c8",
   "metadata": {},
   "outputs": [
    {
     "name": "stdout",
     "output_type": "stream",
     "text": [
      "GCD of the numbers 38 and 12 is 2\n"
     ]
    }
   ],
   "source": [
    "# GCD of 2 numbers using loop\n",
    "num1=int(input('Enter a number: '))\n",
    "num2=int(input('Enter another number: '))\n",
    "\n",
    "print(f'GCD of the numbers {num1} and {num2} is ',end='')\n",
    "\n",
    "while num2!=0:\n",
    "    q=num1//num2\n",
    "    r=num1%num2\n",
    "    num1=num2\n",
    "    num2=r\n",
    "if num2==0:\n",
    "    print(num1)"
   ]
  },
  {
   "cell_type": "code",
   "execution_count": 13,
   "id": "bbd27e8d",
   "metadata": {},
   "outputs": [
    {
     "name": "stdout",
     "output_type": "stream",
     "text": [
      "---------Approach 1---------\n",
      "The original number is : 1234321\n",
      "Yes, the number 1234321 is a palindrome\n",
      "---------Approach 2---------\n",
      "Yes, the number 1234321 is a palindrome\n"
     ]
    }
   ],
   "source": [
    "# check if a number is palindrome\n",
    "\n",
    "print('---------Approach 1---------')\n",
    "test_number=input('Enter a number to check palindrome: ')\n",
    "print (f'The original number is : {test_number}')\n",
    "\n",
    "if test_number==test_number[::-1]:\n",
    "    print(f'Yes, the number {test_number} is a palindrome')\n",
    "else:\n",
    "    print(f'No, the number {test_number} is not a palindrome')\n",
    "    \n",
    "\n",
    "from math import log\n",
    "\n",
    "print('---------Approach 2---------')\n",
    "\n",
    "def rev(num):\n",
    "    return int(num != 0) and ((num % 10) * (10**int(log(num, 10))) + rev(num // 10))\n",
    "\n",
    "\n",
    "if int(test_number) == rev(int(test_number)):\n",
    "    print(f'Yes, the number {test_number} is a palindrome')\n",
    "else:\n",
    "    print(f'No, the number {test_number} is not a palindrome')"
   ]
  }
 ],
 "metadata": {
  "kernelspec": {
   "display_name": "ml_internship",
   "language": "python",
   "name": "python3"
  },
  "language_info": {
   "codemirror_mode": {
    "name": "ipython",
    "version": 3
   },
   "file_extension": ".py",
   "mimetype": "text/x-python",
   "name": "python",
   "nbconvert_exporter": "python",
   "pygments_lexer": "ipython3",
   "version": "3.13.2"
  }
 },
 "nbformat": 4,
 "nbformat_minor": 5
}
