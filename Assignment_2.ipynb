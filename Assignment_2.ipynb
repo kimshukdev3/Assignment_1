{
 "cells": [
  {
   "cell_type": "code",
   "execution_count": 1,
   "id": "d9bbff41",
   "metadata": {},
   "outputs": [],
   "source": [
    "# Assignments Dated: 21 May, 2025"
   ]
  },
  {
   "cell_type": "markdown",
   "id": "89ba99dd",
   "metadata": {},
   "source": [
    "## 1. Write a function to check if a number is prime"
   ]
  },
  {
   "cell_type": "code",
   "execution_count": 4,
   "id": "50036427",
   "metadata": {},
   "outputs": [
    {
     "name": "stdout",
     "output_type": "stream",
     "text": [
      "The number 8 is not prime\n",
      "The number 9 is not prime\n",
      "The number 11 is prime\n"
     ]
    }
   ],
   "source": [
    "def primeCheck(num):\n",
    "    isPrime=True\n",
    "    if num==1 or num==0:\n",
    "        isPrime=False\n",
    "    elif num>1:\n",
    "        for i in range(2,int(num**0.5)+1):\n",
    "            if num%i==0:\n",
    "                isPrime=False\n",
    "            else: isPrime=True\n",
    "    if isPrime:\n",
    "        print(f'The number {num} is prime')\n",
    "    else:\n",
    "        print(f'The number {num} is not prime')\n",
    "\n",
    "primeCheck(8)\n",
    "primeCheck(9)\n",
    "primeCheck(11)"
   ]
  },
  {
   "cell_type": "markdown",
   "id": "c72c74dc",
   "metadata": {},
   "source": [
    "## 2. Create a function to calculate the area of a rectangle"
   ]
  },
  {
   "cell_type": "code",
   "execution_count": 8,
   "id": "f1c11687",
   "metadata": {},
   "outputs": [
    {
     "name": "stdout",
     "output_type": "stream",
     "text": [
      "Area of the rectangle of length 30 units and breadth 12 units is: 360 sq. units\n"
     ]
    }
   ],
   "source": [
    "def areaOfRectangle():\n",
    "    length=int(input('Enter the length of the rectangle: '))\n",
    "    breadth=int(input('Enter the breadth of the rectangle: '))\n",
    "    \n",
    "    print(f'Area of the rectangle of length {length} units and breadth {breadth} units is: {length*breadth} sq. units')\n",
    "\n",
    "areaOfRectangle()"
   ]
  },
  {
   "cell_type": "markdown",
   "id": "a701e3f5",
   "metadata": {},
   "source": [
    "## 3. Create a function to find the maximum of two numbers"
   ]
  },
  {
   "cell_type": "code",
   "execution_count": 9,
   "id": "660cdef9",
   "metadata": {},
   "outputs": [
    {
     "name": "stdout",
     "output_type": "stream",
     "text": [
      "The number 13 is greater than 12\n"
     ]
    }
   ],
   "source": [
    "def maxOfTwoNum():\n",
    "    num1=int(input('Enter the first number: '))\n",
    "    num2=int(input('Enter the second number: '))\n",
    "    \n",
    "    if num1>num2:\n",
    "        print(f'The number {num1} is greater than {num2}')\n",
    "    else:\n",
    "        print(f'The number {num2} is greater than {num1}')\n",
    "        \n",
    "maxOfTwoNum()"
   ]
  },
  {
   "cell_type": "markdown",
   "id": "c82f2cc1",
   "metadata": {},
   "source": [
    "## 4. Write a function to reverse a string"
   ]
  },
  {
   "cell_type": "code",
   "execution_count": 11,
   "id": "c2846644",
   "metadata": {},
   "outputs": [
    {
     "name": "stdout",
     "output_type": "stream",
     "text": [
      "Original String: Leonardo DiCaprio\n",
      "Reversed String: oirpaCiD odranoeL\n"
     ]
    }
   ],
   "source": [
    "def reverseAString():\n",
    "    str=input('Enter a string: ')\n",
    "    print(f'Original String: {str}')\n",
    "    print(f'Reversed String: {str[::-1]}')\n",
    "    \n",
    "reverseAString()"
   ]
  },
  {
   "cell_type": "markdown",
   "id": "c96b56b8",
   "metadata": {},
   "source": [
    "## 5. Create a function to print number of vowels in a string"
   ]
  },
  {
   "cell_type": "code",
   "execution_count": 12,
   "id": "9a88e208",
   "metadata": {},
   "outputs": [
    {
     "name": "stdout",
     "output_type": "stream",
     "text": [
      "No of vowels in the string Tom Cruise is 4\n"
     ]
    }
   ],
   "source": [
    "def countVowels():\n",
    "    str=input('Enter a string: ')\n",
    "    vowels=['a','e','i','o','u']\n",
    "    count=0\n",
    "    for i in str:\n",
    "        if i in vowels:\n",
    "            count+=1\n",
    "    print(f'No of vowels in the string {str} is {count}')\n",
    "    \n",
    "countVowels()"
   ]
  },
  {
   "cell_type": "markdown",
   "id": "26125492",
   "metadata": {},
   "source": [
    "## 6. Write a function to check if a string is a palindrome"
   ]
  },
  {
   "cell_type": "code",
   "execution_count": 16,
   "id": "5876beae",
   "metadata": {},
   "outputs": [
    {
     "name": "stdout",
     "output_type": "stream",
     "text": [
      "The original string is : Tattarrattat\n",
      "Yes, the string Tattarrattat is a palindrome\n"
     ]
    }
   ],
   "source": [
    "str=input('Enter a string to check palindrome: ')\n",
    "print (f'The original string is : {str}')\n",
    "\n",
    "def palindromeCheck(str):\n",
    "    if str.lower()==str[::-1].lower():\n",
    "        print(f'Yes, the string {str} is a palindrome')\n",
    "    else:\n",
    "        print(f'No, the string {str} is not a palindrome')\n",
    "\n",
    "palindromeCheck(str)"
   ]
  },
  {
   "cell_type": "markdown",
   "id": "bfddd861",
   "metadata": {},
   "source": [
    "## 7. Create a function to calculate the sum of a list of numbers"
   ]
  },
  {
   "cell_type": "code",
   "execution_count": 17,
   "id": "c1f2e118",
   "metadata": {},
   "outputs": [
    {
     "data": {
      "text/plain": [
       "35"
      ]
     },
     "execution_count": 17,
     "metadata": {},
     "output_type": "execute_result"
    }
   ],
   "source": [
    "def calcSum(list):\n",
    "    sum=0\n",
    "    for i in list:\n",
    "        sum+=i\n",
    "    return sum\n",
    "\n",
    "list=[1,2,3,4,5,20]\n",
    "calcSum(list)"
   ]
  },
  {
   "cell_type": "markdown",
   "id": "43c4e2fb",
   "metadata": {},
   "source": [
    "## 8. Write a function to return the Fibonacci sequence up to n terms"
   ]
  },
  {
   "cell_type": "code",
   "execution_count": 19,
   "id": "875d39c4",
   "metadata": {},
   "outputs": [
    {
     "name": "stdout",
     "output_type": "stream",
     "text": [
      "0 1 1 2 3 5 8 13 21 34 55 89 144 233 377 610 987 1597 2584 4181 6765 "
     ]
    }
   ],
   "source": [
    "num=int(input('Enter a number: '))\n",
    "\n",
    "def fib(n):\n",
    "    first=0\n",
    "    second=1\n",
    "    next=0\n",
    "    for i in range(0,n):\n",
    "        if i<=1:\n",
    "            next=i\n",
    "        else: \n",
    "            next=first+second\n",
    "            first=second\n",
    "            second=next\n",
    "        \n",
    "        print(next,end=' ')\n",
    "\n",
    "fib(num)"
   ]
  },
  {
   "cell_type": "markdown",
   "id": "9bcda84d",
   "metadata": {},
   "source": [
    "## 9. Write a function to convert celsius to fahrenheit"
   ]
  },
  {
   "cell_type": "code",
   "execution_count": 2,
   "id": "d8ebd2c8",
   "metadata": {},
   "outputs": [
    {
     "data": {
      "text/plain": [
       "102.2"
      ]
     },
     "execution_count": 2,
     "metadata": {},
     "output_type": "execute_result"
    }
   ],
   "source": [
    "cel=int(input('Enter number of degrees: '))\n",
    "\n",
    "def celciusToFahrenheit(celsius):\n",
    "    if type(celsius)==int:\n",
    "        return (celsius*1.8)+32\n",
    "\n",
    "celciusToFahrenheit(cel)"
   ]
  },
  {
   "cell_type": "markdown",
   "id": "d13d7790",
   "metadata": {},
   "source": [
    "## 10. Write a function to find the minimum value in a list"
   ]
  },
  {
   "cell_type": "code",
   "execution_count": 6,
   "id": "517fefe1",
   "metadata": {},
   "outputs": [
    {
     "data": {
      "text/plain": [
       "1"
      ]
     },
     "execution_count": 6,
     "metadata": {},
     "output_type": "execute_result"
    }
   ],
   "source": [
    "list=[76,2,3,4,5,6,1,8,9,10]\n",
    "\n",
    "def findMinimum(list):\n",
    "    min=list[0]\n",
    "    for i in list:\n",
    "        if i<min:\n",
    "            min=i\n",
    "    return min\n",
    "\n",
    "findMinimum(list)\n",
    "            "
   ]
  },
  {
   "cell_type": "markdown",
   "id": "9d4e7e77",
   "metadata": {},
   "source": [
    "## 11. Create a function to count how many times a character appears in a string"
   ]
  },
  {
   "cell_type": "code",
   "execution_count": null,
   "id": "37e7a7c1",
   "metadata": {},
   "outputs": [
    {
     "name": "stdout",
     "output_type": "stream",
     "text": [
      "You entered \"Minimum\"\n",
      "The number of 'm' is 3\n",
      "The number of 'i' is 2\n",
      "The number of 'n' is 1\n",
      "The number of 'u' is 1\n"
     ]
    }
   ],
   "source": [
    "str=input('Enter a string: ')\n",
    "print(f'You entered \\\"{str}\\\"')\n",
    "\n",
    "def countCharsInString(str):\n",
    "    str=str.lower()\n",
    "    my_dict={}\n",
    "    for i in str:\n",
    "        if i in my_dict:\n",
    "            my_dict[i]+=1\n",
    "        else:\n",
    "            my_dict[i]=1\n",
    "    return my_dict\n",
    "\n",
    "for key, value in countCharsInString(str).items():\n",
    "    print(f'The number of \\'{key}\\' is {value}')"
   ]
  },
  {
   "cell_type": "markdown",
   "id": "f22f4764",
   "metadata": {},
   "source": [
    "## 12. Write a function to check if a number is a perfect number"
   ]
  },
  {
   "cell_type": "code",
   "execution_count": 22,
   "id": "be16aefd",
   "metadata": {},
   "outputs": [
    {
     "name": "stdout",
     "output_type": "stream",
     "text": [
      "Number is a Perfect Number\n"
     ]
    }
   ],
   "source": [
    "# A perfect number is a positive integer that is equal to the sum of its positive proper divisors, that is, divisors excluding the number itself\n",
    "num=int(input('Enter a number: '))\n",
    "\n",
    "def perfectNumberCheck(num):\n",
    "    sum = 0\n",
    "    for i in range(1, num):\n",
    "        if(num % i == 0):\n",
    "            sum = sum + i\n",
    "    if (sum == num):\n",
    "        print(\"Number is a Perfect Number\")\n",
    "    else:\n",
    "        print(\"Number is not a Perfect Number\")\n",
    "        \n",
    "perfectNumberCheck(num)"
   ]
  },
  {
   "cell_type": "markdown",
   "id": "db6855ee",
   "metadata": {},
   "source": [
    "## 13. Create a function to find the sum of the digits of a number"
   ]
  },
  {
   "cell_type": "code",
   "execution_count": null,
   "id": "563dcc87",
   "metadata": {},
   "outputs": [
    {
     "data": {
      "text/plain": [
       "10"
      ]
     },
     "execution_count": 25,
     "metadata": {},
     "output_type": "execute_result"
    }
   ],
   "source": [
    "num=input('Enter a number: ')\n",
    "print(f'You Entered: {num}')\n",
    "\n",
    "def sumOfDigits(num):\n",
    "    sum=0\n",
    "    for i in num:\n",
    "        sum+=int(i)\n",
    "    \n",
    "    return sum\n",
    "\n",
    "sumOfDigits(num)"
   ]
  },
  {
   "cell_type": "markdown",
   "id": "af52bbeb",
   "metadata": {},
   "source": [
    "## 14. Write a function that takes a string and returns a dictionary of character frequencies"
   ]
  },
  {
   "cell_type": "code",
   "execution_count": null,
   "id": "8d537571",
   "metadata": {},
   "outputs": [
    {
     "name": "stdout",
     "output_type": "stream",
     "text": [
      "You entered \"Henry Cavill\"\n",
      "The number of 'h' is 1\n",
      "The number of 'e' is 1\n",
      "The number of 'n' is 1\n",
      "The number of 'r' is 1\n",
      "The number of 'y' is 1\n",
      "The number of ' ' is 1\n",
      "The number of 'c' is 1\n",
      "The number of 'a' is 1\n",
      "The number of 'v' is 1\n",
      "The number of 'i' is 1\n",
      "The number of 'l' is 2\n"
     ]
    }
   ],
   "source": [
    "str=input('Enter a string: ')\n",
    "print(f'You entered \\\"{str}\\\"')\n",
    "\n",
    "def countCharacterFrequency(str):\n",
    "    str=str.lower()\n",
    "    my_dict={}\n",
    "    for i in str:\n",
    "        if i in my_dict:\n",
    "            my_dict[i]+=1\n",
    "        else:\n",
    "            my_dict[i]=1\n",
    "    return my_dict\n",
    "\n",
    "for key, value in countCharacterFrequency(str).items():\n",
    "    print(f'The number of \\'{key}\\' is {value}')"
   ]
  },
  {
   "cell_type": "markdown",
   "id": "82c6b215",
   "metadata": {},
   "source": [
    "## 15. Write a function that returns the average of a list of numbers"
   ]
  },
  {
   "cell_type": "code",
   "execution_count": 24,
   "id": "0c0a5ee7",
   "metadata": {},
   "outputs": [
    {
     "name": "stdout",
     "output_type": "stream",
     "text": [
      "Average of the list of the numbers is: 12.158\n"
     ]
    }
   ],
   "source": [
    "list=[1,2,3,4,5,10,12,34,54,23,2,2,31,1,1,33,3,5,5]\n",
    "\n",
    "def averageFind(list):\n",
    "    return sum(list)/len(list)\n",
    "\n",
    "print(f'Average of the list of the numbers is: %5.3f' %(averageFind(list)))"
   ]
  },
  {
   "cell_type": "markdown",
   "id": "f47504e5",
   "metadata": {},
   "source": [
    "## 16. Create a function that accepts a number and prints it's multiplication table"
   ]
  },
  {
   "cell_type": "code",
   "execution_count": 25,
   "id": "837736d2",
   "metadata": {},
   "outputs": [
    {
     "name": "stdout",
     "output_type": "stream",
     "text": [
      "13 X 1 = 13\n",
      "13 X 2 = 26\n",
      "13 X 3 = 39\n",
      "13 X 4 = 52\n",
      "13 X 5 = 65\n",
      "13 X 6 = 78\n",
      "13 X 7 = 91\n",
      "13 X 8 = 104\n",
      "13 X 9 = 117\n",
      "13 X 10 = 130\n"
     ]
    }
   ],
   "source": [
    "num=int(input('Enter a number: '))\n",
    "\n",
    "def printTable(num):\n",
    "    for i in range(1,11):\n",
    "        print(f'{num} X {i} = {num*i}')\n",
    "\n",
    "printTable(num)"
   ]
  },
  {
   "cell_type": "markdown",
   "id": "e13fd817",
   "metadata": {},
   "source": [
    "## 17. Write a function that accepts a list and returns the list in reverse order"
   ]
  },
  {
   "cell_type": "code",
   "execution_count": 26,
   "id": "5975a937",
   "metadata": {},
   "outputs": [
    {
     "data": {
      "text/plain": [
       "['Nolan', 13.42323, True, 'Christopher', 2, 1]"
      ]
     },
     "execution_count": 26,
     "metadata": {},
     "output_type": "execute_result"
    }
   ],
   "source": [
    "lst=[1,2,'Christopher',True,13.42323,'Nolan']\n",
    "\n",
    "def printReverse(list):\n",
    "    return list[::-1]\n",
    "\n",
    "printReverse(lst)"
   ]
  },
  {
   "cell_type": "markdown",
   "id": "33336d89",
   "metadata": {},
   "source": [
    "## 18. Write a function to find the second largest number in a list"
   ]
  },
  {
   "cell_type": "code",
   "execution_count": 29,
   "id": "84874047",
   "metadata": {},
   "outputs": [
    {
     "data": {
      "text/plain": [
       "25"
      ]
     },
     "execution_count": 29,
     "metadata": {},
     "output_type": "execute_result"
    }
   ],
   "source": [
    "list=[1,25,3,40,5]\n",
    "\n",
    "def findSecondLargest(list):\n",
    "    max1=max2=0\n",
    "    for i in list:\n",
    "        if i>max1:\n",
    "            max2=max1\n",
    "            max1=i\n",
    "    \n",
    "        elif i > max2 and i != max1:\n",
    "            max2=i\n",
    "    return max2\n",
    "\n",
    "findSecondLargest(list)"
   ]
  },
  {
   "cell_type": "markdown",
   "id": "ff39ac2f",
   "metadata": {},
   "source": [
    "## 19. Create a function that accepts a list of integers and returns only the even ones"
   ]
  },
  {
   "cell_type": "code",
   "execution_count": 30,
   "id": "c5c96328",
   "metadata": {},
   "outputs": [
    {
     "name": "stdout",
     "output_type": "stream",
     "text": [
      "[26, 42, 6, 8, 96, 10]\n"
     ]
    }
   ],
   "source": [
    "list=[17,26,35,42,51,6,677,8,96,10]\n",
    "\n",
    "def printEven(list):\n",
    "    even=[]\n",
    "    for i in list:\n",
    "        if i%2 == 0:\n",
    "            even.append(i)\n",
    "    return even\n",
    "\n",
    "print(printEven(list))"
   ]
  },
  {
   "cell_type": "markdown",
   "id": "2ec11b0e",
   "metadata": {},
   "source": [
    "## 20. Write a function to check if all characters in a string are unique"
   ]
  },
  {
   "cell_type": "code",
   "execution_count": 57,
   "id": "fac6b89c",
   "metadata": {},
   "outputs": [
    {
     "name": "stdout",
     "output_type": "stream",
     "text": [
      "The string \"Hannah Montana\" does not contain unique characters\n",
      "The string \"abcd\" contains unique characters\n"
     ]
    }
   ],
   "source": [
    "str=input('Enter a string: ')\n",
    "str1=input('Enter a string: ')\n",
    "\n",
    "def checkUnique(string):\n",
    "    str=string.lower()\n",
    "\n",
    "    new_str=''\n",
    "    for i in str:\n",
    "        if i not in new_str:\n",
    "            new_str+=i\n",
    "            \n",
    "    if (new_str == str):\n",
    "        print(f'The string \\\"{string}\\\" contains unique characters')\n",
    "    else:\n",
    "        print(f'The string \\\"{string}\\\" does not contain unique characters')\n",
    "        \n",
    "checkUnique(str)\n",
    "checkUnique(str1)\n"
   ]
  },
  {
   "cell_type": "markdown",
   "id": "0da6109e",
   "metadata": {},
   "source": [
    "## 21.  Create a function to calculate the greatest common divisor (GCD) of two numbers"
   ]
  },
  {
   "cell_type": "code",
   "execution_count": null,
   "id": "54b5badd",
   "metadata": {},
   "outputs": [
    {
     "name": "stdout",
     "output_type": "stream",
     "text": [
      "GCD of the numbers 38 and 12 is 2\n"
     ]
    }
   ],
   "source": [
    "num1=int(input('Enter a number: '))\n",
    "num2=int(input('Enter another number: '))\n",
    "\n",
    "def findGCD(num1,num2):\n",
    "    while num2!=0:\n",
    "        r=num1%num2\n",
    "        num1=num2\n",
    "        num2=r\n",
    "    if num2==0:\n",
    "        return num1\n",
    "    \n",
    "print(f'GCD of the numbers {num1} and {num2} is {findGCD(num1,num2)}')\n"
   ]
  },
  {
   "cell_type": "markdown",
   "id": "dac82a25",
   "metadata": {},
   "source": [
    "## 22. Write a function to find the least common multiple (LCM) of two numbers"
   ]
  },
  {
   "cell_type": "code",
   "execution_count": 3,
   "id": "1b2433b3",
   "metadata": {},
   "outputs": [
    {
     "name": "stdout",
     "output_type": "stream",
     "text": [
      "LCM of 2 and 3 is 6\n"
     ]
    }
   ],
   "source": [
    "num1=int(input('Enter a number: '))\n",
    "num2=int(input('Enter another number: '))\n",
    "\n",
    "def LCM(a, b):\n",
    "    greater = max(a, b)\n",
    "    smallest = min(a, b)\n",
    "    for i in range(greater, a*b+1, greater):\n",
    "        if i % smallest == 0:\n",
    "            return i\n",
    "\n",
    "print(\"LCM of\", num1, \"and\", num2, \"is\", LCM(num1, num2))    "
   ]
  },
  {
   "cell_type": "markdown",
   "id": "3954a3a1",
   "metadata": {},
   "source": [
    "## 23. Create a function to remove duplicates from a list"
   ]
  },
  {
   "cell_type": "code",
   "execution_count": 8,
   "id": "116998b3",
   "metadata": {},
   "outputs": [
    {
     "name": "stdout",
     "output_type": "stream",
     "text": [
      "[1, 2, 3, False, 3.6, 'Dumbledore']\n"
     ]
    }
   ],
   "source": [
    "list=[1,2,3,False,False,3.6,'Dumbledore','Dumbledore',3]\n",
    "\n",
    "def removeDuplicates(list):\n",
    "    unique_list=[]\n",
    "    for i in list:\n",
    "        if i not in unique_list:\n",
    "            unique_list.append(i)\n",
    "            \n",
    "    return unique_list\n",
    "\n",
    "print(removeDuplicates(list))"
   ]
  },
  {
   "cell_type": "markdown",
   "id": "d7f164c0",
   "metadata": {},
   "source": [
    "## 24.  Write a recursive function to compute the factorial of a number"
   ]
  },
  {
   "cell_type": "code",
   "execution_count": 16,
   "id": "7724d419",
   "metadata": {},
   "outputs": [
    {
     "name": "stdout",
     "output_type": "stream",
     "text": [
      "Factorial of the number 11 is 39916800\n"
     ]
    }
   ],
   "source": [
    "num=int(input('Enter a number to find its factorial: '))\n",
    "\n",
    "def fact(num):\n",
    "    if num == 0 or num == 1:\n",
    "        return 1\n",
    "    else:\n",
    "        return num * fact(num-1)\n",
    "\n",
    "print(f'Factorial of the number {num} is {fact(num)}')"
   ]
  },
  {
   "cell_type": "markdown",
   "id": "649a46de",
   "metadata": {},
   "source": [
    "## 25. Create a function that checks if a number is an Armstrong number"
   ]
  },
  {
   "cell_type": "code",
   "execution_count": 24,
   "id": "c0379f14",
   "metadata": {},
   "outputs": [
    {
     "name": "stdout",
     "output_type": "stream",
     "text": [
      "The number 370 is an Armstrong number\n"
     ]
    }
   ],
   "source": [
    "num=input('Enter a number to check if it is an Armstrong number: ')\n",
    "\n",
    "def armstrongCheck(num):\n",
    "    sum=0\n",
    "    for i in num:\n",
    "        sum+=int(i)**len(num)\n",
    "    if sum == int(num):\n",
    "        print(f'The number {num} is an Armstrong number')\n",
    "    else:\n",
    "        print(f'The number {num} is not an Armstrong number')\n",
    "        \n",
    "armstrongCheck(num)"
   ]
  },
  {
   "cell_type": "markdown",
   "id": "03f22a07",
   "metadata": {},
   "source": [
    "## 26. Write a function that returns all prime numbers up to n"
   ]
  },
  {
   "cell_type": "code",
   "execution_count": 7,
   "id": "8e907831",
   "metadata": {},
   "outputs": [
    {
     "name": "stdout",
     "output_type": "stream",
     "text": [
      "Prime numbers list from 1 to 213 is: \n",
      "2 3 5 7 11 13 17 19 23 29 31 37 41 43 47 53 59 61 67 71 73 79 83 89 97 101 103 107 109 113 127 131 137 139 149 151 157 163 167 173 179 181 191 193 197 199 211 "
     ]
    }
   ],
   "source": [
    "n=int(input('Enter the value until which you want to output prime numbers: '))\n",
    "\n",
    "def primeNum(n):\n",
    "    for i in range(2,n+1):\n",
    "        for j in range(2, i):\n",
    "            if i % j == 0:\n",
    "                break\n",
    "        else:\n",
    "            print(i,end=' ')\n",
    "\n",
    "print(f'Prime numbers list from 1 to {n} is: ')\n",
    "primeNum(n)"
   ]
  },
  {
   "cell_type": "markdown",
   "id": "3cbe0a77",
   "metadata": {},
   "source": [
    "## 27. Create a function that accepts a sentence and returns the longest word"
   ]
  },
  {
   "cell_type": "code",
   "execution_count": 14,
   "id": "4d571cd3",
   "metadata": {},
   "outputs": [
    {
     "name": "stdout",
     "output_type": "stream",
     "text": [
      "You entered: \"My name is Holt McCallany\"\n",
      "McCallany\n"
     ]
    }
   ],
   "source": [
    "str=input('Enter a sentence: ')\n",
    "print(f'You entered: \\\"{str}\\\"')\n",
    "\n",
    "def returnLongestWord(str):\n",
    "    list=str.split(' ')\n",
    "    \n",
    "    max=0\n",
    "    \n",
    "    for i in list:\n",
    "        if len(i) > max:\n",
    "            max=len(i)\n",
    "\n",
    "    longest_word=''\n",
    "    for i in list:\n",
    "        if len(i) == max:\n",
    "            longest_word=i\n",
    "    return longest_word\n",
    "\n",
    "print(returnLongestWord(str))"
   ]
  },
  {
   "cell_type": "markdown",
   "id": "9d7b9b93",
   "metadata": {},
   "source": [
    "## 28.  Write a function to compute the power of a number using recursion"
   ]
  },
  {
   "cell_type": "code",
   "execution_count": 19,
   "id": "4d5f9a60",
   "metadata": {},
   "outputs": [
    {
     "name": "stdout",
     "output_type": "stream",
     "text": [
      "The value of 7 ^ 7 is: 823543\n"
     ]
    }
   ],
   "source": [
    "num=int(input('Enter a number: '))\n",
    "expo=int(input('Enter the power: '))\n",
    "\n",
    "def findPower(number,exponent):\n",
    "    if exponent == 0:\n",
    "        return 1\n",
    "    elif exponent == 1:\n",
    "        return number\n",
    "    else:\n",
    "        return number * findPower(number,exponent-1)\n",
    "\n",
    "print(f'The value of {num} ^ {expo} is: {findPower(num,expo)}')"
   ]
  },
  {
   "cell_type": "markdown",
   "id": "9d224384",
   "metadata": {},
   "source": [
    "## 29. Create a function that flattens a nested list"
   ]
  },
  {
   "cell_type": "code",
   "execution_count": 2,
   "id": "295eb7b5",
   "metadata": {},
   "outputs": [
    {
     "name": "stdout",
     "output_type": "stream",
     "text": [
      "['Becky G', 'Anne Marie', 'Halsey', 'Hailee Steinfeld', 31, 43, 22, 45, 274.67, False, 56]\n"
     ]
    }
   ],
   "source": [
    "nested_list=['Becky G','Anne Marie','Halsey','Hailee Steinfeld',[31,43,22,45,[274.67,False],56]]\n",
    "\n",
    "def listFlatten(lst):\n",
    "    flat_list=[]\n",
    "    \n",
    "    for i in lst:\n",
    "        if not isinstance(i,list):\n",
    "            flat_list.append(i)\n",
    "        else:\n",
    "            flat_list.extend(listFlatten(i))\n",
    "    return flat_list\n",
    "\n",
    "print(listFlatten(nested_list))"
   ]
  },
  {
   "cell_type": "markdown",
   "id": "0119a3e3",
   "metadata": {},
   "source": [
    "## 30. Write a function to check if a list is sorted"
   ]
  },
  {
   "cell_type": "code",
   "execution_count": null,
   "id": "27b1897a",
   "metadata": {},
   "outputs": [
    {
     "name": "stdout",
     "output_type": "stream",
     "text": [
      "The list [2, 3, 1, 5, 3, 7, 6] is not sorted\n",
      "The list [1, 2, 3, 4, 5, 6, 7] is sorted\n"
     ]
    }
   ],
   "source": [
    "lst1=[2,3,1,5,3,7,6]\n",
    "lst2=[1,2,3,4,5,6,7]\n",
    "\n",
    "def checkIfSorted(lst):\n",
    "    if lst == sorted(lst):\n",
    "        print(f'The list {lst} is sorted')\n",
    "    else:\n",
    "        print(f'The list {lst} is not sorted')\n",
    "\n",
    "checkIfSorted(lst1)        \n",
    "checkIfSorted(lst2)        "
   ]
  },
  {
   "cell_type": "markdown",
   "id": "392ec07f",
   "metadata": {},
   "source": [
    "## 31. Create a function to merge two sorted lists into one sorted list"
   ]
  },
  {
   "cell_type": "code",
   "execution_count": 13,
   "id": "5035ceb4",
   "metadata": {},
   "outputs": [
    {
     "name": "stdout",
     "output_type": "stream",
     "text": [
      "Sorted merger of list [2, 3, 1, 5, 3, 7, 6] and [1, 2, 3, 4, 5, 6, 7] is : [1, 1, 2, 2, 3, 3, 3, 4, 5, 5, 6, 6, 7, 7]\n"
     ]
    }
   ],
   "source": [
    "lst1=[2,3,1,5,3,7,6]\n",
    "lst2=[1,2,3,4,5,6,7]\n",
    "\n",
    "def mergeLists(lst1,lst2):\n",
    "    lst1.sort()\n",
    "    lst2.sort()\n",
    "    \n",
    "    lst1.extend(lst2)\n",
    "    lst1.sort()\n",
    "    return lst1\n",
    "\n",
    "print(f'Sorted merger of list {lst1} and {lst2} is : {mergeLists(lst1,lst2)}')"
   ]
  },
  {
   "cell_type": "markdown",
   "id": "8ecf28eb",
   "metadata": {},
   "source": [
    "## 32. Write a function to find the most frequent element in a list"
   ]
  },
  {
   "cell_type": "code",
   "execution_count": 28,
   "id": "36eee8e6",
   "metadata": {},
   "outputs": [
    {
     "name": "stdout",
     "output_type": "stream",
     "text": [
      "The most frequent element(s) in the list [1, 1, 1, 1, 1, 1, 1, 2, 2, 2, 2, 3, 3, 3, 3, 4, 5, 5, 6, 6, 7, 7] is: \n",
      "1 \n",
      "The most frequent element(s) in the list [1, 1, 2, 3, 4, 5, 5, 6, 6, 7, 7] is: \n",
      "1 5 6 7 "
     ]
    }
   ],
   "source": [
    "lst1=[1, 1,1,1,1,1,1, 2,2,2, 2,3, 3, 3, 3, 4, 5, 5, 6, 6, 7, 7]\n",
    "lst2=[1, 1, 2, 3, 4, 5, 5, 6, 6, 7, 7]\n",
    "\n",
    "def mostFrequentElement(lst):\n",
    "    my_dict={}\n",
    "    for i in lst:\n",
    "        if i in my_dict:\n",
    "            my_dict[i]+=1\n",
    "        else:\n",
    "            my_dict[i]=1\n",
    "\n",
    "    frequency_count=[]\n",
    "    for key,value in my_dict.items():\n",
    "        frequency_count.append(value)\n",
    "\n",
    "    frequency_count=sorted(frequency_count)\n",
    "    frequency_count.reverse()\n",
    "    \n",
    "    max_occurring_elem_count=frequency_count[0]\n",
    "    frequent_elem=[]\n",
    "    for key, val in my_dict.items():\n",
    "        if val == max_occurring_elem_count:\n",
    "            frequent_elem.append(key)\n",
    "    frequent_elem=list(set(frequent_elem))\n",
    "    return frequent_elem    \n",
    "\n",
    "print(f'The most frequent element(s) in the list {lst1} is: ')\n",
    "for i in mostFrequentElement(lst1):\n",
    "    print(i,end=' ')\n",
    "print()\n",
    "print(f'The most frequent element(s) in the list {lst2} is: ')\n",
    "for i in mostFrequentElement(lst2):\n",
    "    print(i,end=' ')\n",
    "\n"
   ]
  },
  {
   "cell_type": "markdown",
   "id": "66313bda",
   "metadata": {},
   "source": [
    "## 33. Create a function that returns the median of a list"
   ]
  },
  {
   "cell_type": "code",
   "execution_count": null,
   "id": "09b4d7ed",
   "metadata": {},
   "outputs": [
    {
     "name": "stdout",
     "output_type": "stream",
     "text": [
      "Median of the list [1, 1, 1, 1, 1, 1, 1, 2, 2, 2, 2, 3, 3, 3, 3, 4, 5, 5, 6, 6, 7, 7] is: 2.5\n"
     ]
    }
   ],
   "source": [
    "def find_median(numbers):\n",
    "    if not numbers:\n",
    "        raise ValueError(\"List is empty\")\n",
    "\n",
    "    numbers = sorted(numbers)\n",
    "    n = len(numbers)\n",
    "    mid = n // 2\n",
    "\n",
    "    if n % 2 == 0:\n",
    "        # Even number of elements\n",
    "        median = (numbers[mid - 1] + numbers[mid]) / 2\n",
    "    else:\n",
    "        # Odd number of elements\n",
    "        median = numbers[mid]\n",
    "\n",
    "    return median\n",
    "\n",
    "lst=[1, 1,1,1,1,1,1, 2,2,2, 2,3, 3, 3, 3, 4, 5, 5, 6, 6, 7, 7]\n",
    "print(f'Median of the list {lst} is: {find_median(lst)}')"
   ]
  },
  {
   "cell_type": "markdown",
   "id": "25214dfe",
   "metadata": {},
   "source": [
    "## 34. Create a function that finds the intersection of two lists"
   ]
  },
  {
   "cell_type": "code",
   "execution_count": 31,
   "id": "e9e9d642",
   "metadata": {},
   "outputs": [
    {
     "name": "stdout",
     "output_type": "stream",
     "text": [
      "Intersection of the sets [1, 2, 3, 4] and [3, 4, 5, 6] is [3, 4]\n"
     ]
    }
   ],
   "source": [
    "def find_intersection(list1, list2):\n",
    "    return list(set(list1) & set(list2))\n",
    "\n",
    "set1 = [1, 2, 3, 4]\n",
    "set2 = [3, 4, 5, 6]\n",
    "\n",
    "print(f'Intersection of the sets {set1} and {set2} is {find_intersection(set1,set2)}')"
   ]
  },
  {
   "cell_type": "markdown",
   "id": "3a83adf7",
   "metadata": {},
   "source": [
    "## 35. Write a function that accepts variable number of arguments and returns their product"
   ]
  },
  {
   "cell_type": "code",
   "execution_count": 32,
   "id": "50ac4574",
   "metadata": {},
   "outputs": [
    {
     "name": "stdout",
     "output_type": "stream",
     "text": [
      "3312\n"
     ]
    }
   ],
   "source": [
    "def multiply_all(*args):\n",
    "    product = 1\n",
    "    for num in args:\n",
    "        product *= num\n",
    "    return product\n",
    "\n",
    "print(multiply_all(12,23,3,4))"
   ]
  },
  {
   "cell_type": "markdown",
   "id": "40ab0abe",
   "metadata": {},
   "source": [
    "## 36. Write a function that returns a list of tuples (element, index) from a list"
   ]
  },
  {
   "cell_type": "code",
   "execution_count": 33,
   "id": "d3b96b89",
   "metadata": {},
   "outputs": [
    {
     "name": "stdout",
     "output_type": "stream",
     "text": [
      "[('a', 0), ('b', 1), ('c', 2), ('d', 3)]\n"
     ]
    }
   ],
   "source": [
    "def element_with_index(lst):\n",
    "    return [(element, index) for index, element in enumerate(lst)]\n",
    "\n",
    "my_list = ['a', 'b', 'c', 'd']\n",
    "print(element_with_index(my_list))\n"
   ]
  },
  {
   "cell_type": "markdown",
   "id": "21c01859",
   "metadata": {},
   "source": [
    "## 37. Create a function that accepts a string and returns a dictionary of word counts"
   ]
  },
  {
   "cell_type": "code",
   "execution_count": 35,
   "id": "31e4d22d",
   "metadata": {},
   "outputs": [
    {
     "name": "stdout",
     "output_type": "stream",
     "text": [
      "Word count of the string Clark Clark Clark Kent Kent is a a superman superman is {'clark': 3, 'kent': 2, 'is': 1, 'a': 2, 'superman': 2}\n"
     ]
    }
   ],
   "source": [
    "str=input('Enter a string: ')\n",
    "\n",
    "def wordCount(str):\n",
    "    str=str.lower()\n",
    "    str=str.split(' ')\n",
    "    my_dict={}\n",
    "    for i in str:\n",
    "        if i in my_dict:\n",
    "            my_dict[i]+=1\n",
    "        else:\n",
    "            my_dict[i]=1\n",
    "    return my_dict\n",
    "\n",
    "print(f'Word count of the string {str} is {wordCount(str)}')"
   ]
  },
  {
   "cell_type": "markdown",
   "id": "8afc66c0",
   "metadata": {},
   "source": [
    "## 38. Write a function that checks if a sentence is a pangram"
   ]
  },
  {
   "cell_type": "code",
   "execution_count": 36,
   "id": "7cf0be81",
   "metadata": {},
   "outputs": [
    {
     "name": "stdout",
     "output_type": "stream",
     "text": [
      "The string \"A quick brown fox jumps over the lazy dog\" is a pangram\n"
     ]
    }
   ],
   "source": [
    "import string\n",
    "\n",
    "def is_pangram(sentence):\n",
    "    # Convert to lowercase to handle case-insensitivity\n",
    "    sentence = sentence.lower()\n",
    "\n",
    "    # Create a set of all alphabets\n",
    "    alphabet_set = set(string.ascii_lowercase)\n",
    "\n",
    "    # Create a set of characters from the sentence\n",
    "    sentence_set = set(sentence)\n",
    "\n",
    "    # Check if all alphabets are in the sentence\n",
    "    return alphabet_set.issubset(sentence_set)\n",
    "\n",
    "str=input('Enter a string: ')\n",
    "if is_pangram(str):\n",
    "    print(f'The string \\\"{str}\\\" is a pangram')\n",
    "else:\n",
    "    print(f'The string \\\"{str}\\\" is not a pangram')\n",
    "    \n"
   ]
  },
  {
   "cell_type": "markdown",
   "id": "bf6c5291",
   "metadata": {},
   "source": [
    "## 39.  Create a function that accepts a list and a value, and returns the index of the value (or -1)"
   ]
  },
  {
   "cell_type": "code",
   "execution_count": 37,
   "id": "15826590",
   "metadata": {},
   "outputs": [
    {
     "name": "stdout",
     "output_type": "stream",
     "text": [
      "2\n",
      "-1\n"
     ]
    }
   ],
   "source": [
    "def find_index(lst, value):\n",
    "    try:\n",
    "        return lst.index(value)\n",
    "    except ValueError:\n",
    "        return -1\n",
    "\n",
    "my_list = [10, 20, 30, 40, 50]\n",
    "\n",
    "print(find_index(my_list, 30))\n",
    "print(find_index(my_list, 100))\n"
   ]
  },
  {
   "cell_type": "markdown",
   "id": "10534106",
   "metadata": {},
   "source": [
    "## 40. Write a function that counts the number of uppercase and lowercase characters in a string"
   ]
  },
  {
   "cell_type": "code",
   "execution_count": 40,
   "id": "bf0661c2",
   "metadata": {},
   "outputs": [
    {
     "name": "stdout",
     "output_type": "stream",
     "text": [
      "The entered string: \"Hello World! I am Nicolas Cage\" has following uppercase and lowercase letters:- \n",
      "uppercase:5 lowercase:19\n"
     ]
    }
   ],
   "source": [
    "def count_case_chars(s):\n",
    "    upper_count = 0\n",
    "    lower_count = 0\n",
    "    \n",
    "    for char in s:\n",
    "        if char.isupper():\n",
    "            upper_count += 1\n",
    "        elif char.islower():\n",
    "            lower_count += 1\n",
    "            \n",
    "    return {\"uppercase\": upper_count, \"lowercase\": lower_count}\n",
    "\n",
    "text=input('Enter a text: ')\n",
    "result=count_case_chars(text)\n",
    "\n",
    "print(f'The entered string: \\\"{text}\\\" has following uppercase and lowercase letters:- \\nuppercase:{result['uppercase']} lowercase:{result['lowercase']}')"
   ]
  }
 ],
 "metadata": {
  "kernelspec": {
   "display_name": "ml_internship",
   "language": "python",
   "name": "python3"
  },
  "language_info": {
   "codemirror_mode": {
    "name": "ipython",
    "version": 3
   },
   "file_extension": ".py",
   "mimetype": "text/x-python",
   "name": "python",
   "nbconvert_exporter": "python",
   "pygments_lexer": "ipython3",
   "version": "3.13.2"
  }
 },
 "nbformat": 4,
 "nbformat_minor": 5
}
