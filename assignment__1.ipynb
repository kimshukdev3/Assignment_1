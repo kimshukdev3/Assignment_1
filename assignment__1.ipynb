{
 "cells": [
  {
   "cell_type": "code",
   "execution_count": 2,
   "id": "8cc3b7bd-65e5-4a3b-8dfd-4200510dbb52",
   "metadata": {},
   "outputs": [
    {
     "name": "stdout",
     "output_type": "stream",
     "text": [
      "1\n",
      "2\n",
      "3\n",
      "4\n",
      "5\n",
      "6\n",
      "7\n",
      "8\n",
      "9\n",
      "10\n"
     ]
    }
   ],
   "source": [
    "#Print numbers fron 1 to 10\n",
    "for i in range(1,11):\n",
    "    print(i)"
   ]
  },
  {
   "cell_type": "code",
   "execution_count": 8,
   "id": "ba4673e9-5887-492d-92b1-4ee53f4c7ff8",
   "metadata": {},
   "outputs": [
    {
     "name": "stdout",
     "output_type": "stream",
     "text": [
      "2\n",
      "4\n",
      "6\n",
      "8\n",
      "10\n",
      "12\n",
      "14\n",
      "16\n",
      "18\n",
      "20\n"
     ]
    }
   ],
   "source": [
    "#Print even numbers fron 1 to 20\n",
    "for j in range(1,21):\n",
    "    if j%2==0:\n",
    "        print(j)\n",
    "    "
   ]
  },
  {
   "cell_type": "code",
   "execution_count": 12,
   "id": "22156b1f-8bf4-4765-8db7-649c0f7b3dbd",
   "metadata": {},
   "outputs": [
    {
     "name": "stdin",
     "output_type": "stream",
     "text": [
      "Enter a number(integer only) to check: 6\n"
     ]
    },
    {
     "name": "stdout",
     "output_type": "stream",
     "text": [
      "You've entered a positive number\n"
     ]
    }
   ],
   "source": [
    "#Check if a number is positive, negative or zero.\n",
    "a=int(input(\"Enter a number(integer only) to check:\"))\n",
    "if a>0:\n",
    "    print(\"You've entered a positive number\")\n",
    "elif a<0:\n",
    "    print(\"You've entered a negative number\")\n",
    "else:\n",
    "    print(\"You've enterd zero\")"
   ]
  },
  {
   "cell_type": "code",
   "execution_count": 13,
   "id": "a547e1cf-74ea-496a-b9dc-9b8c3b92ca97",
   "metadata": {},
   "outputs": [
    {
     "name": "stdin",
     "output_type": "stream",
     "text": [
      "Enter a number: 45\n",
      "Enter second number: 33\n"
     ]
    },
    {
     "name": "stdout",
     "output_type": "stream",
     "text": [
      "The summation of  45 and 33 is: 78\n"
     ]
    }
   ],
   "source": [
    "#Add two numbers using operators.\n",
    "a=int(input(\"Enter a number:\"))\n",
    "b=int(input(\"Enter second number:\"))\n",
    "print(\"The summation of \",a,\"and\",b, \"is:\",a+b )"
   ]
  },
  {
   "cell_type": "code",
   "execution_count": 17,
   "id": "5be3866b-fe78-4cd6-8ec5-4ef3448e13f7",
   "metadata": {},
   "outputs": [
    {
     "name": "stdin",
     "output_type": "stream",
     "text": [
      "Enter a number to print multiplication table: 6\n"
     ]
    },
    {
     "name": "stdout",
     "output_type": "stream",
     "text": [
      "6 \t*\t 1 \t=\t 6\n",
      "6 \t*\t 2 \t=\t 12\n",
      "6 \t*\t 3 \t=\t 18\n",
      "6 \t*\t 4 \t=\t 24\n",
      "6 \t*\t 5 \t=\t 30\n",
      "6 \t*\t 6 \t=\t 36\n",
      "6 \t*\t 7 \t=\t 42\n",
      "6 \t*\t 8 \t=\t 48\n",
      "6 \t*\t 9 \t=\t 54\n",
      "6 \t*\t 10 \t=\t 60\n"
     ]
    }
   ],
   "source": [
    "#Print multiplication table of a number.\n",
    "a=int(input(\"Enter a number to print multiplication table:\"))\n",
    "for i in range(1,11):\n",
    "    print(a, \"\\t*\\t\" , i,\"\\t=\\t\" , a*i)"
   ]
  },
  {
   "cell_type": "code",
   "execution_count": 20,
   "id": "dffdcc70-e03f-4606-9a10-262d23d3fce4",
   "metadata": {},
   "outputs": [
    {
     "name": "stdin",
     "output_type": "stream",
     "text": [
      "Enter a number: 8\n",
      "Enter second number: 8\n"
     ]
    },
    {
     "name": "stdout",
     "output_type": "stream",
     "text": [
      "Both numbers are same\n"
     ]
    }
   ],
   "source": [
    "#Find the largest among two numbers.\n",
    "a=int(input(\"Enter a number:\"))\n",
    "b=int(input(\"Enter second number:\"))\n",
    "if(a>b):\n",
    "    print(a,'is the largest number')\n",
    "elif(a==b):\n",
    "    print('Both numbers are same')\n",
    "else:\n",
    "    print(b,'is the largest number')"
   ]
  },
  {
   "cell_type": "code",
   "execution_count": 21,
   "id": "e00a9178-8ad2-4161-baa3-a8552df23269",
   "metadata": {},
   "outputs": [
    {
     "name": "stdout",
     "output_type": "stream",
     "text": [
      "5\n",
      "4\n",
      "3\n",
      "2\n",
      "1\n"
     ]
    }
   ],
   "source": [
    "#Use a while loop to print numbers 5 to 1.\n",
    "a=5\n",
    "i=1\n",
    "while(a>=i):\n",
    "    print(a)\n",
    "    a-=1"
   ]
  },
  {
   "cell_type": "code",
   "execution_count": 25,
   "id": "571952fc-039c-4c86-8f4d-17a93023526d",
   "metadata": {},
   "outputs": [
    {
     "name": "stdin",
     "output_type": "stream",
     "text": [
      "Enter a string: Jii hello\n"
     ]
    },
    {
     "name": "stdout",
     "output_type": "stream",
     "text": [
      "J\n",
      "i\n",
      "i\n",
      " \n",
      "h\n",
      "e\n",
      "l\n",
      "l\n",
      "o\n"
     ]
    }
   ],
   "source": [
    "#Print all characters in a string.\n",
    "a=str(input(\"Enter a string:\"))\n",
    "l=len(a)\n",
    "for i in range(0,l):\n",
    "    print(a[i])"
   ]
  },
  {
   "cell_type": "code",
   "execution_count": 27,
   "id": "b0fe657a-513d-4691-b7c8-3354cbe0afa8",
   "metadata": {},
   "outputs": [
    {
     "name": "stdout",
     "output_type": "stream",
     "text": [
      "Sum of first 10 natural number is : 55\n"
     ]
    }
   ],
   "source": [
    "#Sum of first 10 natural numbers.\n",
    "n=0\n",
    "for i in range(1,11):\n",
    "    n+=i\n",
    "print('Sum of first 10 natural number is :',n)"
   ]
  },
  {
   "cell_type": "code",
   "execution_count": null,
   "id": "6b16d7f0-6e7c-45ec-a9ac-93c2d26046fc",
   "metadata": {},
   "outputs": [],
   "source": []
  }
 ],
 "metadata": {
  "kernelspec": {
   "display_name": "Python 3 (ipykernel)",
   "language": "python",
   "name": "python3"
  },
  "language_info": {
   "codemirror_mode": {
    "name": "ipython",
    "version": 3
   },
   "file_extension": ".py",
   "mimetype": "text/x-python",
   "name": "python",
   "nbconvert_exporter": "python",
   "pygments_lexer": "ipython3",
   "version": "3.13.2"
  }
 },
 "nbformat": 4,
 "nbformat_minor": 5
}
